{
 "cells": [
  {
   "cell_type": "markdown",
   "metadata": {},
   "source": [
    "## 카카오 로컬 API 활용\n",
    "- 도로명 주소 --> 위도, 경도 좌표"
   ]
  },
  {
   "cell_type": "code",
   "execution_count": 1,
   "metadata": {},
   "outputs": [],
   "source": [
    "import requests, json\n",
    "import pandas as pd \n",
    "from urllib.parse import quote"
   ]
  },
  {
   "cell_type": "markdown",
   "metadata": {},
   "source": [
    "- API Key"
   ]
  },
  {
   "cell_type": "code",
   "execution_count": 2,
   "metadata": {},
   "outputs": [],
   "source": [
    "with open('keys/카카오apiKey.txt') as file:\n",
    "    kakao_key = file.read()"
   ]
  },
  {
   "cell_type": "markdown",
   "metadata": {},
   "source": [
    "- URL 만들기"
   ]
  },
  {
   "cell_type": "code",
   "execution_count": 3,
   "metadata": {},
   "outputs": [],
   "source": [
    "base_url = 'https://dapi.kakao.com/v2/local/search/address.json'\n",
    "addr = '서울특별시 영등포구 경인로 지하843 (영등포동3가)'\n",
    "url = f'{base_url}?query={quote(addr)}'"
   ]
  },
  {
   "cell_type": "code",
   "execution_count": 4,
   "metadata": {},
   "outputs": [],
   "source": [
    "# Header: Authorization: KakaoAK ${REST_API_KEY}\n",
    "header = {'Authorization': f'KakaoAK {kakao_key}'}"
   ]
  },
  {
   "cell_type": "markdown",
   "metadata": {},
   "source": [
    "- Kakao Local API 호출하여 결과 가져오기"
   ]
  },
  {
   "cell_type": "code",
   "execution_count": 5,
   "metadata": {},
   "outputs": [
    {
     "data": {
      "text/plain": [
       "{'documents': [{'address': {'address_name': '서울 영등포구 영등포동3가 33',\n",
       "    'b_code': '1156010400',\n",
       "    'h_code': '1156053500',\n",
       "    'main_address_no': '33',\n",
       "    'mountain_yn': 'N',\n",
       "    'region_1depth_name': '서울',\n",
       "    'region_2depth_name': '영등포구',\n",
       "    'region_3depth_h_name': '영등포동',\n",
       "    'region_3depth_name': '영등포동3가',\n",
       "    'sub_address_no': '',\n",
       "    'x': '126.906658750671',\n",
       "    'y': '37.5164625580995'},\n",
       "   'address_name': '서울 영등포구 경인로 지하 843',\n",
       "   'address_type': 'ROAD_ADDR',\n",
       "   'road_address': {'address_name': '서울 영등포구 경인로 지하 843',\n",
       "    'building_name': '영등포역지하도상가',\n",
       "    'main_building_no': '843',\n",
       "    'region_1depth_name': '서울',\n",
       "    'region_2depth_name': '영등포구',\n",
       "    'region_3depth_name': '영등포동3가',\n",
       "    'road_name': '경인로',\n",
       "    'sub_building_no': '',\n",
       "    'underground_yn': 'Y',\n",
       "    'x': '126.906658750671',\n",
       "    'y': '37.5164625580995',\n",
       "    'zone_no': '07305'},\n",
       "   'x': '126.906658750671',\n",
       "   'y': '37.5164625580995'}],\n",
       " 'meta': {'is_end': True, 'pageable_count': 1, 'total_count': 1}}"
      ]
     },
     "execution_count": 5,
     "metadata": {},
     "output_type": "execute_result"
    }
   ],
   "source": [
    "result = requests.get(url, headers=header).json()\n",
    "result"
   ]
  },
  {
   "cell_type": "code",
   "execution_count": 6,
   "metadata": {},
   "outputs": [
    {
     "data": {
      "text/plain": [
       "dict_keys(['address', 'address_name', 'address_type', 'road_address', 'x', 'y'])"
      ]
     },
     "execution_count": 6,
     "metadata": {},
     "output_type": "execute_result"
    }
   ],
   "source": [
    "result['documents'][0].keys()"
   ]
  },
  {
   "cell_type": "code",
   "execution_count": 7,
   "metadata": {},
   "outputs": [
    {
     "data": {
      "text/plain": [
       "(37.5164625580995, 126.906658750671)"
      ]
     },
     "execution_count": 7,
     "metadata": {},
     "output_type": "execute_result"
    }
   ],
   "source": [
    "lat = float(result['documents'][0]['y'])\n",
    "lng = float(result['documents'][0]['x'])\n",
    "lat, lng"
   ]
  },
  {
   "cell_type": "markdown",
   "metadata": {},
   "source": [
    "- 영등포소재 지하철역 정보 완성하기"
   ]
  },
  {
   "cell_type": "code",
   "execution_count": 8,
   "metadata": {},
   "outputs": [
    {
     "data": {
      "text/html": [
       "<div>\n",
       "<style scoped>\n",
       "    .dataframe tbody tr th:only-of-type {\n",
       "        vertical-align: middle;\n",
       "    }\n",
       "\n",
       "    .dataframe tbody tr th {\n",
       "        vertical-align: top;\n",
       "    }\n",
       "\n",
       "    .dataframe thead th {\n",
       "        text-align: right;\n",
       "    }\n",
       "</style>\n",
       "<table border=\"1\" class=\"dataframe\">\n",
       "  <thead>\n",
       "    <tr style=\"text-align: right;\">\n",
       "      <th></th>\n",
       "      <th>이름</th>\n",
       "      <th>주소</th>\n",
       "    </tr>\n",
       "  </thead>\n",
       "  <tbody>\n",
       "    <tr>\n",
       "      <th>0</th>\n",
       "      <td>영등포역</td>\n",
       "      <td>서울특별시 영등포구 경인로 지하843 (영등포동3가)</td>\n",
       "    </tr>\n",
       "    <tr>\n",
       "      <th>1</th>\n",
       "      <td>신도림역</td>\n",
       "      <td>서울특별시 구로구 경인로 625 (신도림동)</td>\n",
       "    </tr>\n",
       "    <tr>\n",
       "      <th>2</th>\n",
       "      <td>당산역</td>\n",
       "      <td>서울특별시 영등포구 당산로 229 (당산동6가)</td>\n",
       "    </tr>\n",
       "    <tr>\n",
       "      <th>3</th>\n",
       "      <td>여의도역</td>\n",
       "      <td>서울특별시 영등포구 여의나루로 지하40 (여의도동)</td>\n",
       "    </tr>\n",
       "    <tr>\n",
       "      <th>4</th>\n",
       "      <td>영등포구청역</td>\n",
       "      <td>서울특별시 영등포구 당산로 지하121 (당산동3가)</td>\n",
       "    </tr>\n",
       "  </tbody>\n",
       "</table>\n",
       "</div>"
      ],
      "text/plain": [
       "       이름                             주소\n",
       "0    영등포역  서울특별시 영등포구 경인로 지하843 (영등포동3가)\n",
       "1    신도림역       서울특별시 구로구 경인로 625 (신도림동)\n",
       "2     당산역     서울특별시 영등포구 당산로 229 (당산동6가)\n",
       "3    여의도역   서울특별시 영등포구 여의나루로 지하40 (여의도동)\n",
       "4  영등포구청역   서울특별시 영등포구 당산로 지하121 (당산동3가)"
      ]
     },
     "execution_count": 8,
     "metadata": {},
     "output_type": "execute_result"
    }
   ],
   "source": [
    "df = pd.read_csv('data/영등포소재 지하철역.csv')\n",
    "df"
   ]
  },
  {
   "cell_type": "code",
   "execution_count": 9,
   "metadata": {},
   "outputs": [],
   "source": [
    "lat_list, lng_list = [], []\n",
    "for i in df.index:\n",
    "    url = f'{base_url}?query={quote(df[\"주소\"][i])}'\n",
    "    result = requests.get(url, headers=header).json()\n",
    "    lat_list.append(float(result['documents'][0]['y']))\n",
    "    lng_list.append(float(result['documents'][0]['x']))"
   ]
  },
  {
   "cell_type": "code",
   "execution_count": 10,
   "metadata": {},
   "outputs": [
    {
     "data": {
      "text/html": [
       "<div>\n",
       "<style scoped>\n",
       "    .dataframe tbody tr th:only-of-type {\n",
       "        vertical-align: middle;\n",
       "    }\n",
       "\n",
       "    .dataframe tbody tr th {\n",
       "        vertical-align: top;\n",
       "    }\n",
       "\n",
       "    .dataframe thead th {\n",
       "        text-align: right;\n",
       "    }\n",
       "</style>\n",
       "<table border=\"1\" class=\"dataframe\">\n",
       "  <thead>\n",
       "    <tr style=\"text-align: right;\">\n",
       "      <th></th>\n",
       "      <th>이름</th>\n",
       "      <th>주소</th>\n",
       "      <th>위도</th>\n",
       "      <th>경도</th>\n",
       "    </tr>\n",
       "  </thead>\n",
       "  <tbody>\n",
       "    <tr>\n",
       "      <th>0</th>\n",
       "      <td>영등포역</td>\n",
       "      <td>서울특별시 영등포구 경인로 지하843 (영등포동3가)</td>\n",
       "      <td>37.516463</td>\n",
       "      <td>126.906659</td>\n",
       "    </tr>\n",
       "    <tr>\n",
       "      <th>1</th>\n",
       "      <td>신도림역</td>\n",
       "      <td>서울특별시 구로구 경인로 625 (신도림동)</td>\n",
       "      <td>37.507084</td>\n",
       "      <td>126.884719</td>\n",
       "    </tr>\n",
       "    <tr>\n",
       "      <th>2</th>\n",
       "      <td>당산역</td>\n",
       "      <td>서울특별시 영등포구 당산로 229 (당산동6가)</td>\n",
       "      <td>37.534957</td>\n",
       "      <td>126.902731</td>\n",
       "    </tr>\n",
       "    <tr>\n",
       "      <th>3</th>\n",
       "      <td>여의도역</td>\n",
       "      <td>서울특별시 영등포구 여의나루로 지하40 (여의도동)</td>\n",
       "      <td>37.521842</td>\n",
       "      <td>126.924485</td>\n",
       "    </tr>\n",
       "    <tr>\n",
       "      <th>4</th>\n",
       "      <td>영등포구청역</td>\n",
       "      <td>서울특별시 영등포구 당산로 지하121 (당산동3가)</td>\n",
       "      <td>37.525700</td>\n",
       "      <td>126.896627</td>\n",
       "    </tr>\n",
       "  </tbody>\n",
       "</table>\n",
       "</div>"
      ],
      "text/plain": [
       "       이름                             주소         위도          경도\n",
       "0    영등포역  서울특별시 영등포구 경인로 지하843 (영등포동3가)  37.516463  126.906659\n",
       "1    신도림역       서울특별시 구로구 경인로 625 (신도림동)  37.507084  126.884719\n",
       "2     당산역     서울특별시 영등포구 당산로 229 (당산동6가)  37.534957  126.902731\n",
       "3    여의도역   서울특별시 영등포구 여의나루로 지하40 (여의도동)  37.521842  126.924485\n",
       "4  영등포구청역   서울특별시 영등포구 당산로 지하121 (당산동3가)  37.525700  126.896627"
      ]
     },
     "execution_count": 10,
     "metadata": {},
     "output_type": "execute_result"
    }
   ],
   "source": [
    "df['위도'] = lat_list\n",
    "df['경도'] = lng_list\n",
    "df"
   ]
  },
  {
   "cell_type": "code",
   "execution_count": 11,
   "metadata": {},
   "outputs": [
    {
     "data": {
      "text/html": [
       "<div>\n",
       "<style scoped>\n",
       "    .dataframe tbody tr th:only-of-type {\n",
       "        vertical-align: middle;\n",
       "    }\n",
       "\n",
       "    .dataframe tbody tr th {\n",
       "        vertical-align: top;\n",
       "    }\n",
       "\n",
       "    .dataframe thead th {\n",
       "        text-align: right;\n",
       "    }\n",
       "</style>\n",
       "<table border=\"1\" class=\"dataframe\">\n",
       "  <thead>\n",
       "    <tr style=\"text-align: right;\">\n",
       "      <th></th>\n",
       "      <th>이름</th>\n",
       "      <th>주소</th>\n",
       "      <th>위도</th>\n",
       "      <th>경도</th>\n",
       "    </tr>\n",
       "  </thead>\n",
       "  <tbody>\n",
       "    <tr>\n",
       "      <th>0</th>\n",
       "      <td>영등포역</td>\n",
       "      <td>서울특별시 영등포구 경인로 지하843 (영등포동3가)</td>\n",
       "      <td>37.516463</td>\n",
       "      <td>126.906659</td>\n",
       "    </tr>\n",
       "    <tr>\n",
       "      <th>1</th>\n",
       "      <td>신도림역</td>\n",
       "      <td>서울특별시 구로구 경인로 625 (신도림동)</td>\n",
       "      <td>37.507084</td>\n",
       "      <td>126.884719</td>\n",
       "    </tr>\n",
       "    <tr>\n",
       "      <th>2</th>\n",
       "      <td>당산역</td>\n",
       "      <td>서울특별시 영등포구 당산로 229 (당산동6가)</td>\n",
       "      <td>37.534957</td>\n",
       "      <td>126.902731</td>\n",
       "    </tr>\n",
       "    <tr>\n",
       "      <th>3</th>\n",
       "      <td>여의도역</td>\n",
       "      <td>서울특별시 영등포구 여의나루로 지하40 (여의도동)</td>\n",
       "      <td>37.521842</td>\n",
       "      <td>126.924485</td>\n",
       "    </tr>\n",
       "    <tr>\n",
       "      <th>4</th>\n",
       "      <td>영등포구청역</td>\n",
       "      <td>서울특별시 영등포구 당산로 지하121 (당산동3가)</td>\n",
       "      <td>37.525700</td>\n",
       "      <td>126.896627</td>\n",
       "    </tr>\n",
       "  </tbody>\n",
       "</table>\n",
       "</div>"
      ],
      "text/plain": [
       "       이름                             주소         위도          경도\n",
       "0    영등포역  서울특별시 영등포구 경인로 지하843 (영등포동3가)  37.516463  126.906659\n",
       "1    신도림역       서울특별시 구로구 경인로 625 (신도림동)  37.507084  126.884719\n",
       "2     당산역     서울특별시 영등포구 당산로 229 (당산동6가)  37.534957  126.902731\n",
       "3    여의도역   서울특별시 영등포구 여의나루로 지하40 (여의도동)  37.521842  126.924485\n",
       "4  영등포구청역   서울특별시 영등포구 당산로 지하121 (당산동3가)  37.525700  126.896627"
      ]
     },
     "execution_count": 11,
     "metadata": {},
     "output_type": "execute_result"
    }
   ],
   "source": [
    "df.to_csv('data/영등포소재 지하철역2.csv', index=False)\n",
    "pd.read_csv('data/영등포소재 지하철역2.csv')"
   ]
  },
  {
   "cell_type": "code",
   "execution_count": null,
   "metadata": {},
   "outputs": [],
   "source": []
  }
 ],
 "metadata": {
  "kernelspec": {
   "display_name": "base",
   "language": "python",
   "name": "python3"
  },
  "language_info": {
   "codemirror_mode": {
    "name": "ipython",
    "version": 3
   },
   "file_extension": ".py",
   "mimetype": "text/x-python",
   "name": "python",
   "nbconvert_exporter": "python",
   "pygments_lexer": "ipython3",
   "version": "3.11.4"
  },
  "orig_nbformat": 4
 },
 "nbformat": 4,
 "nbformat_minor": 2
}
