{
 "cells": [
  {
   "cell_type": "markdown",
   "metadata": {},
   "source": [
    "## 식신 - 영등포역"
   ]
  },
  {
   "cell_type": "code",
   "execution_count": 1,
   "metadata": {},
   "outputs": [],
   "source": [
    "import requests\n",
    "import pandas as pd \n",
    "from bs4 import BeautifulSoup\n",
    "from urllib.parse import quote"
   ]
  },
  {
   "cell_type": "markdown",
   "metadata": {},
   "source": [
    "- Step 1"
   ]
  },
  {
   "cell_type": "code",
   "execution_count": 2,
   "metadata": {},
   "outputs": [],
   "source": [
    "base_url = 'https://www.siksinhot.com/search'\n",
    "url = f'{base_url}?keywords={quote(\"영등포역\")}'\n",
    "res = requests.get(url)\n",
    "soup = BeautifulSoup(res.text, 'html.parser')"
   ]
  },
  {
   "cell_type": "markdown",
   "metadata": {},
   "source": [
    "- Step 2"
   ]
  },
  {
   "cell_type": "code",
   "execution_count": 3,
   "metadata": {},
   "outputs": [
    {
     "data": {
      "text/plain": [
       "20"
      ]
     },
     "execution_count": 3,
     "metadata": {},
     "output_type": "execute_result"
    }
   ],
   "source": [
    "lis = soup.select('.localFood_list > li')\n",
    "len(lis)"
   ]
  },
  {
   "cell_type": "code",
   "execution_count": 4,
   "metadata": {},
   "outputs": [
    {
     "data": {
      "text/plain": [
       "28"
      ]
     },
     "execution_count": 4,
     "metadata": {},
     "output_type": "execute_result"
    }
   ],
   "source": [
    "len(soup.select('li'))"
   ]
  },
  {
   "cell_type": "markdown",
   "metadata": {},
   "source": [
    "- Step 3"
   ]
  },
  {
   "cell_type": "code",
   "execution_count": 7,
   "metadata": {},
   "outputs": [
    {
     "data": {
      "text/plain": [
       "'원조호수삼계탕'"
      ]
     },
     "execution_count": 7,
     "metadata": {},
     "output_type": "execute_result"
    }
   ],
   "source": [
    "li = lis[0]\n",
    "atag = li.select_one('figcaption > a')\n",
    "name = atag.select_one('h2').get_text().strip()\n",
    "name"
   ]
  },
  {
   "cell_type": "code",
   "execution_count": 8,
   "metadata": {},
   "outputs": [
    {
     "data": {
      "text/plain": [
       "'4.0'"
      ]
     },
     "execution_count": 8,
     "metadata": {},
     "output_type": "execute_result"
    }
   ],
   "source": [
    "score = atag.select_one('.score').get_text().strip()\n",
    "score"
   ]
  },
  {
   "cell_type": "code",
   "execution_count": 9,
   "metadata": {},
   "outputs": [
    {
     "data": {
      "text/plain": [
       "'삼계탕/백숙/찜닭'"
      ]
     },
     "execution_count": 9,
     "metadata": {},
     "output_type": "execute_result"
    }
   ],
   "source": [
    "menu = li.select('.cate > a')[-1].get_text().strip()\n",
    "menu"
   ]
  },
  {
   "cell_type": "code",
   "execution_count": 10,
   "metadata": {},
   "outputs": [
    {
     "data": {
      "text/plain": [
       "'https://www.siksinhot.com/P/3033'"
      ]
     },
     "execution_count": 10,
     "metadata": {},
     "output_type": "execute_result"
    }
   ],
   "source": [
    "sub_href = atag['href']\n",
    "sub_href"
   ]
  },
  {
   "cell_type": "code",
   "execution_count": 11,
   "metadata": {},
   "outputs": [],
   "source": [
    "# sub page\n",
    "sub_res = requests.get(sub_href)\n",
    "sub_soup = BeautifulSoup(sub_res.text, 'html.parser')"
   ]
  },
  {
   "cell_type": "code",
   "execution_count": 22,
   "metadata": {},
   "outputs": [
    {
     "data": {
      "text/plain": [
       "'서울특별시 영등포구 도림로 276'"
      ]
     },
     "execution_count": 22,
     "metadata": {},
     "output_type": "execute_result"
    }
   ],
   "source": [
    "info = sub_soup.select('.pc_only > td')\n",
    "addr = info[0].select_one('div').get_text().split('지번')[0].strip()\n",
    "addr"
   ]
  },
  {
   "cell_type": "code",
   "execution_count": 24,
   "metadata": {},
   "outputs": [
    {
     "data": {
      "text/plain": [
       "'02-848-2440'"
      ]
     },
     "execution_count": 24,
     "metadata": {},
     "output_type": "execute_result"
    }
   ],
   "source": [
    "tel = info[1].select_one('div').get_text().strip()\n",
    "tel"
   ]
  },
  {
   "cell_type": "markdown",
   "metadata": {},
   "source": [
    "- Step 4"
   ]
  },
  {
   "cell_type": "code",
   "execution_count": 25,
   "metadata": {},
   "outputs": [],
   "source": [
    "data = []\n",
    "for li in lis:\n",
    "    atag = li.select_one('figcaption > a')\n",
    "    name = atag.select_one('h2').get_text().strip()\n",
    "    score = atag.select_one('.score').get_text().strip()\n",
    "    menu = li.select('.cate > a')[-1].get_text().strip()\n",
    "    sub_href = atag['href']\n",
    "    sub_res = requests.get(sub_href)\n",
    "    sub_soup = BeautifulSoup(sub_res.text, 'html.parser')\n",
    "    info = sub_soup.select('.pc_only > td')\n",
    "    addr = info[0].select_one('div').get_text().split('지번')[0].strip()\n",
    "    tel = info[1].select_one('div').get_text().strip()\n",
    "    data.append({'업소명':name, '평점':score, '메뉴':menu, '주소':addr, '전화번호':tel})"
   ]
  },
  {
   "cell_type": "markdown",
   "metadata": {},
   "source": [
    "- Step 7"
   ]
  },
  {
   "cell_type": "code",
   "execution_count": 26,
   "metadata": {},
   "outputs": [
    {
     "data": {
      "text/html": [
       "<div>\n",
       "<style scoped>\n",
       "    .dataframe tbody tr th:only-of-type {\n",
       "        vertical-align: middle;\n",
       "    }\n",
       "\n",
       "    .dataframe tbody tr th {\n",
       "        vertical-align: top;\n",
       "    }\n",
       "\n",
       "    .dataframe thead th {\n",
       "        text-align: right;\n",
       "    }\n",
       "</style>\n",
       "<table border=\"1\" class=\"dataframe\">\n",
       "  <thead>\n",
       "    <tr style=\"text-align: right;\">\n",
       "      <th></th>\n",
       "      <th>업소명</th>\n",
       "      <th>평점</th>\n",
       "      <th>메뉴</th>\n",
       "      <th>주소</th>\n",
       "      <th>전화번호</th>\n",
       "    </tr>\n",
       "  </thead>\n",
       "  <tbody>\n",
       "    <tr>\n",
       "      <th>0</th>\n",
       "      <td>원조호수삼계탕</td>\n",
       "      <td>4.0</td>\n",
       "      <td>삼계탕/백숙/찜닭</td>\n",
       "      <td>서울특별시 영등포구 도림로 276</td>\n",
       "      <td>02-848-2440</td>\n",
       "    </tr>\n",
       "    <tr>\n",
       "      <th>1</th>\n",
       "      <td>여로집 영등포점</td>\n",
       "      <td>4.0</td>\n",
       "      <td>낙지/문어/주꾸미</td>\n",
       "      <td>서울특별시 영등포구 영중로10길 26</td>\n",
       "      <td>02-2678-8934</td>\n",
       "    </tr>\n",
       "    <tr>\n",
       "      <th>2</th>\n",
       "      <td>송죽장</td>\n",
       "      <td>3.8</td>\n",
       "      <td>중식</td>\n",
       "      <td>서울특별시 영등포구 문래로 203</td>\n",
       "      <td>02-2678-1323</td>\n",
       "    </tr>\n",
       "    <tr>\n",
       "      <th>3</th>\n",
       "      <td>함흥냉면</td>\n",
       "      <td>3.6</td>\n",
       "      <td>냉면/막국수</td>\n",
       "      <td>서울특별시 영등포구 영등포로42길 6</td>\n",
       "      <td>02-2678-2722</td>\n",
       "    </tr>\n",
       "    <tr>\n",
       "      <th>4</th>\n",
       "      <td>원조나주곰탕</td>\n",
       "      <td>평가중</td>\n",
       "      <td>설렁탕/곰탕/갈비탕</td>\n",
       "      <td>서울특별시 영등포구 버드나루로7길 7 카보드동우빌딩</td>\n",
       "      <td>02-2677-5066</td>\n",
       "    </tr>\n",
       "    <tr>\n",
       "      <th>5</th>\n",
       "      <td>호박집</td>\n",
       "      <td>4.3</td>\n",
       "      <td>한정식</td>\n",
       "      <td>서울특별시 영등포구 영등포로 237-1 성일빌딩</td>\n",
       "      <td>02-2634-9703</td>\n",
       "    </tr>\n",
       "    <tr>\n",
       "      <th>6</th>\n",
       "      <td>대한옥</td>\n",
       "      <td>4.1</td>\n",
       "      <td>설렁탕/곰탕/갈비탕</td>\n",
       "      <td>서울특별시 영등포구 영등포로51길 6</td>\n",
       "      <td>02-2633-5052</td>\n",
       "    </tr>\n",
       "    <tr>\n",
       "      <th>7</th>\n",
       "      <td>덕원</td>\n",
       "      <td>4.1</td>\n",
       "      <td>설렁탕/곰탕/갈비탕</td>\n",
       "      <td>서울특별시 영등포구 버드나루로길 6</td>\n",
       "      <td>02-2634-8663</td>\n",
       "    </tr>\n",
       "    <tr>\n",
       "      <th>8</th>\n",
       "      <td>대문점</td>\n",
       "      <td>3.9</td>\n",
       "      <td>중식</td>\n",
       "      <td>서울특별시 영등포구 영중로10길 30</td>\n",
       "      <td>02-2678-3256</td>\n",
       "    </tr>\n",
       "    <tr>\n",
       "      <th>9</th>\n",
       "      <td>부일갈비</td>\n",
       "      <td>3.8</td>\n",
       "      <td>돼지구이</td>\n",
       "      <td>서울특별시 영등포구 영중로6길 23-8</td>\n",
       "      <td>02-2636-9462</td>\n",
       "    </tr>\n",
       "    <tr>\n",
       "      <th>10</th>\n",
       "      <td>막내회센타</td>\n",
       "      <td>3.8</td>\n",
       "      <td>회/횟집/참치</td>\n",
       "      <td>서울특별시 영등포구 도신로53길 7</td>\n",
       "      <td>02-844-6150</td>\n",
       "    </tr>\n",
       "    <tr>\n",
       "      <th>11</th>\n",
       "      <td>중앙참치</td>\n",
       "      <td>평가중</td>\n",
       "      <td>회/횟집/참치</td>\n",
       "      <td>서울특별시 영등포구 영등포로43길 14 1층</td>\n",
       "      <td>02-2634-3681</td>\n",
       "    </tr>\n",
       "    <tr>\n",
       "      <th>12</th>\n",
       "      <td>신길동매운짬뽕</td>\n",
       "      <td>4.1</td>\n",
       "      <td>중식</td>\n",
       "      <td>서울특별시 영등포구 영등포로62길 10-1</td>\n",
       "      <td>0503-5798-0019</td>\n",
       "    </tr>\n",
       "    <tr>\n",
       "      <th>13</th>\n",
       "      <td>전봇대곱창</td>\n",
       "      <td>3.8</td>\n",
       "      <td>곱창/대창</td>\n",
       "      <td>서울특별시 영등포구 영등포로 369</td>\n",
       "      <td>02-841-0131</td>\n",
       "    </tr>\n",
       "    <tr>\n",
       "      <th>14</th>\n",
       "      <td>즉석우동짜장</td>\n",
       "      <td>3.7</td>\n",
       "      <td>중식</td>\n",
       "      <td>서울특별시 영등포구 대방천로 260</td>\n",
       "      <td>02-833-3284</td>\n",
       "    </tr>\n",
       "    <tr>\n",
       "      <th>15</th>\n",
       "      <td>스시서정</td>\n",
       "      <td>평가중</td>\n",
       "      <td>일식</td>\n",
       "      <td>서울특별시 영등포구 국회대로50길 20 포레나영등포센트럴 상가동 2층 228호 스시서정</td>\n",
       "      <td>0503-5798-3831</td>\n",
       "    </tr>\n",
       "    <tr>\n",
       "      <th>16</th>\n",
       "      <td>파전닭갈비</td>\n",
       "      <td>평가중</td>\n",
       "      <td>닭볶음탕/닭갈비/닭발</td>\n",
       "      <td>서울특별시 영등포구 신풍로10길 2-16</td>\n",
       "      <td>02-832-5989</td>\n",
       "    </tr>\n",
       "    <tr>\n",
       "      <th>17</th>\n",
       "      <td>느린날의오후</td>\n",
       "      <td>4.2</td>\n",
       "      <td>카페/커피숍</td>\n",
       "      <td></td>\n",
       "      <td>02-845-1829</td>\n",
       "    </tr>\n",
       "    <tr>\n",
       "      <th>18</th>\n",
       "      <td>구공탄곱창 영등포점</td>\n",
       "      <td>4.0</td>\n",
       "      <td>곱창/대창</td>\n",
       "      <td>서울특별시 영등포구 영중로10길 28-1</td>\n",
       "      <td>02-2068-8789</td>\n",
       "    </tr>\n",
       "    <tr>\n",
       "      <th>19</th>\n",
       "      <td>Bar Bam Bar</td>\n",
       "      <td>4.0</td>\n",
       "      <td>다이닝바</td>\n",
       "      <td></td>\n",
       "      <td>02-3667-7678</td>\n",
       "    </tr>\n",
       "  </tbody>\n",
       "</table>\n",
       "</div>"
      ],
      "text/plain": [
       "            업소명   평점           메뉴  \\\n",
       "0       원조호수삼계탕  4.0    삼계탕/백숙/찜닭   \n",
       "1      여로집 영등포점  4.0    낙지/문어/주꾸미   \n",
       "2           송죽장  3.8           중식   \n",
       "3          함흥냉면  3.6       냉면/막국수   \n",
       "4        원조나주곰탕  평가중   설렁탕/곰탕/갈비탕   \n",
       "5           호박집  4.3          한정식   \n",
       "6           대한옥  4.1   설렁탕/곰탕/갈비탕   \n",
       "7            덕원  4.1   설렁탕/곰탕/갈비탕   \n",
       "8           대문점  3.9           중식   \n",
       "9          부일갈비  3.8         돼지구이   \n",
       "10        막내회센타  3.8      회/횟집/참치   \n",
       "11         중앙참치  평가중      회/횟집/참치   \n",
       "12      신길동매운짬뽕  4.1           중식   \n",
       "13        전봇대곱창  3.8        곱창/대창   \n",
       "14       즉석우동짜장  3.7           중식   \n",
       "15         스시서정  평가중           일식   \n",
       "16        파전닭갈비  평가중  닭볶음탕/닭갈비/닭발   \n",
       "17       느린날의오후  4.2       카페/커피숍   \n",
       "18   구공탄곱창 영등포점  4.0        곱창/대창   \n",
       "19  Bar Bam Bar  4.0         다이닝바   \n",
       "\n",
       "                                                  주소            전화번호  \n",
       "0                                 서울특별시 영등포구 도림로 276     02-848-2440  \n",
       "1                               서울특별시 영등포구 영중로10길 26    02-2678-8934  \n",
       "2                                 서울특별시 영등포구 문래로 203    02-2678-1323  \n",
       "3                               서울특별시 영등포구 영등포로42길 6    02-2678-2722  \n",
       "4                       서울특별시 영등포구 버드나루로7길 7 카보드동우빌딩    02-2677-5066  \n",
       "5                         서울특별시 영등포구 영등포로 237-1 성일빌딩    02-2634-9703  \n",
       "6                               서울특별시 영등포구 영등포로51길 6    02-2633-5052  \n",
       "7                                서울특별시 영등포구 버드나루로길 6    02-2634-8663  \n",
       "8                               서울특별시 영등포구 영중로10길 30    02-2678-3256  \n",
       "9                              서울특별시 영등포구 영중로6길 23-8    02-2636-9462  \n",
       "10                               서울특별시 영등포구 도신로53길 7     02-844-6150  \n",
       "11                          서울특별시 영등포구 영등포로43길 14 1층    02-2634-3681  \n",
       "12                           서울특별시 영등포구 영등포로62길 10-1  0503-5798-0019  \n",
       "13                               서울특별시 영등포구 영등포로 369     02-841-0131  \n",
       "14                               서울특별시 영등포구 대방천로 260     02-833-3284  \n",
       "15  서울특별시 영등포구 국회대로50길 20 포레나영등포센트럴 상가동 2층 228호 스시서정  0503-5798-3831  \n",
       "16                            서울특별시 영등포구 신풍로10길 2-16     02-832-5989  \n",
       "17                                                       02-845-1829  \n",
       "18                            서울특별시 영등포구 영중로10길 28-1    02-2068-8789  \n",
       "19                                                      02-3667-7678  "
      ]
     },
     "execution_count": 26,
     "metadata": {},
     "output_type": "execute_result"
    }
   ],
   "source": [
    "df = pd.DataFrame(data)\n",
    "df"
   ]
  },
  {
   "cell_type": "code",
   "execution_count": null,
   "metadata": {},
   "outputs": [],
   "source": []
  }
 ],
 "metadata": {
  "kernelspec": {
   "display_name": "base",
   "language": "python",
   "name": "python3"
  },
  "language_info": {
   "codemirror_mode": {
    "name": "ipython",
    "version": 3
   },
   "file_extension": ".py",
   "mimetype": "text/x-python",
   "name": "python",
   "nbconvert_exporter": "python",
   "pygments_lexer": "ipython3",
   "version": "3.11.4"
  },
  "orig_nbformat": 4
 },
 "nbformat": 4,
 "nbformat_minor": 2
}
