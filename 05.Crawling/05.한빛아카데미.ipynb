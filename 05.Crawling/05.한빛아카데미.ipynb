{
 "cells": [
  {
   "cell_type": "markdown",
   "metadata": {},
   "source": [
    "## 한빛아카데미 - 새로나온 책\n",
    "- https://www.hanbit.co.kr/academy/books/new_book_list.html?page=1 (메인)\n",
    "- https://www.hanbit.co.kr/academy/books/book_view.html?p_code=B3261280549 (서브)\n",
    "- a href='/academy/books/book_view.html?p_code=B3261280549' (알 수 있는 정보)\n",
    "- 제목, 저자, 출간일, 쪽수, 가격, 역자"
   ]
  },
  {
   "cell_type": "code",
   "execution_count": 1,
   "metadata": {},
   "outputs": [],
   "source": [
    "import requests\n",
    "import pandas as pd \n",
    "from tqdm import tqdm\n",
    "from bs4 import BeautifulSoup"
   ]
  },
  {
   "cell_type": "markdown",
   "metadata": {},
   "source": [
    "- Step 1"
   ]
  },
  {
   "cell_type": "code",
   "execution_count": 2,
   "metadata": {},
   "outputs": [],
   "source": [
    "base_url = 'https://www.hanbit.co.kr'\n",
    "main_url = '/academy/books/new_book_list.html'\n",
    "url = f'{base_url}{main_url}?page=1'\n",
    "res = requests.get(url)\n",
    "soup = BeautifulSoup(res.text, 'html.parser')"
   ]
  },
  {
   "cell_type": "markdown",
   "metadata": {},
   "source": [
    "- Step 2"
   ]
  },
  {
   "cell_type": "code",
   "execution_count": 3,
   "metadata": {},
   "outputs": [
    {
     "data": {
      "text/plain": [
       "20"
      ]
     },
     "execution_count": 3,
     "metadata": {},
     "output_type": "execute_result"
    }
   ],
   "source": [
    "lis = soup.select('.sub_book_list')\n",
    "len(lis)"
   ]
  },
  {
   "cell_type": "markdown",
   "metadata": {},
   "source": [
    "- Step 3"
   ]
  },
  {
   "cell_type": "code",
   "execution_count": 4,
   "metadata": {},
   "outputs": [
    {
     "data": {
      "text/plain": [
       "'/academy/books/book_view.html?p_code=B3261280549'"
      ]
     },
     "execution_count": 4,
     "metadata": {},
     "output_type": "execute_result"
    }
   ],
   "source": [
    "li = lis[0]\n",
    "sub_href = li.select_one('.book_tit > a')['href']\n",
    "sub_href"
   ]
  },
  {
   "cell_type": "markdown",
   "metadata": {},
   "source": [
    "- sub page에서 정보 추출"
   ]
  },
  {
   "cell_type": "code",
   "execution_count": 5,
   "metadata": {},
   "outputs": [],
   "source": [
    "sub_url = base_url + sub_href\n",
    "sub_res = requests.get(sub_url)\n",
    "sub_soup = BeautifulSoup(sub_res.text, 'html.parser')"
   ]
  },
  {
   "cell_type": "code",
   "execution_count": 13,
   "metadata": {},
   "outputs": [
    {
     "data": {
      "text/plain": [
       "'관리회계 7판'"
      ]
     },
     "execution_count": 13,
     "metadata": {},
     "output_type": "execute_result"
    }
   ],
   "source": [
    "title = sub_soup.select_one('.store_product_info_box > h3').get_text().strip()\n",
    "title"
   ]
  },
  {
   "cell_type": "code",
   "execution_count": 7,
   "metadata": {},
   "outputs": [
    {
     "data": {
      "text/plain": [
       "{'저자': 'James Jiambalvo',\n",
       " '번역': '손성진',\n",
       " '출간': '2023-09-01',\n",
       " '페이지': '572 쪽',\n",
       " 'ISBN': '9791156646761',\n",
       " '물류코드': '4676'}"
      ]
     },
     "execution_count": 7,
     "metadata": {},
     "output_type": "execute_result"
    }
   ],
   "source": [
    "# 책 정보의 딕셔너리 생성\n",
    "sub_lis = sub_soup.select('.info_list > li')\n",
    "info_dict = {}\n",
    "for sub_li in sub_lis[:-1]:\n",
    "    key = sub_li.find('strong').get_text().strip()\n",
    "    value = sub_li.find('span').get_text().strip()\n",
    "    info_dict[key[:-2]] = value\n",
    "info_dict"
   ]
  },
  {
   "cell_type": "code",
   "execution_count": 9,
   "metadata": {},
   "outputs": [
    {
     "data": {
      "text/plain": [
       "36000"
      ]
     },
     "execution_count": 9,
     "metadata": {},
     "output_type": "execute_result"
    }
   ],
   "source": [
    "price = int(sub_soup.select_one('.pbr > strong').string.replace(',',''))\n",
    "price"
   ]
  },
  {
   "cell_type": "code",
   "execution_count": 12,
   "metadata": {},
   "outputs": [
    {
     "data": {
      "text/plain": [
       "False"
      ]
     },
     "execution_count": 12,
     "metadata": {},
     "output_type": "execute_result"
    }
   ],
   "source": [
    "'a' in info_dict.keys()"
   ]
  },
  {
   "cell_type": "markdown",
   "metadata": {},
   "source": [
    "- Step 4."
   ]
  },
  {
   "cell_type": "code",
   "execution_count": 18,
   "metadata": {},
   "outputs": [],
   "source": [
    "data = []\n",
    "for li in lis:\n",
    "    sub_href = li.select_one('.book_tit > a')['href']\n",
    "    sub_url = base_url + sub_href\n",
    "    sub_res = requests.get(sub_url)\n",
    "    sub_soup = BeautifulSoup(sub_res.text, 'html.parser')\n",
    "    \n",
    "    title = sub_soup.select_one('.store_product_info_box > h3').get_text().strip()\n",
    "    sub_lis = sub_soup.select('.info_list > li')\n",
    "    info_dict = {}\n",
    "    for sub_li in sub_lis[:-1]:\n",
    "        key = sub_li.find('strong').get_text().strip()\n",
    "        value = sub_li.find('span').get_text().strip()\n",
    "        info_dict[key[:-2]] = value\n",
    "    price = int(sub_soup.select_one('.pbr > strong').string.replace(',',''))\n",
    "    \n",
    "    author = ', '.join(info_dict['저자'].split(' , '))\n",
    "    translator = info_dict['번역'].replace(' ,', ',') if '번역' in info_dict.keys() else ' '\n",
    "    date = info_dict['출간']\n",
    "    page = int(info_dict['페이지'][:-2])\n",
    "\n",
    "    data.append({'제목':title, '저자':author, '역자':translator, '출간일':date,\n",
    "                 '페이지수':page, '가격':price})"
   ]
  },
  {
   "cell_type": "code",
   "execution_count": 19,
   "metadata": {},
   "outputs": [
    {
     "data": {
      "text/html": [
       "<div>\n",
       "<style scoped>\n",
       "    .dataframe tbody tr th:only-of-type {\n",
       "        vertical-align: middle;\n",
       "    }\n",
       "\n",
       "    .dataframe tbody tr th {\n",
       "        vertical-align: top;\n",
       "    }\n",
       "\n",
       "    .dataframe thead th {\n",
       "        text-align: right;\n",
       "    }\n",
       "</style>\n",
       "<table border=\"1\" class=\"dataframe\">\n",
       "  <thead>\n",
       "    <tr style=\"text-align: right;\">\n",
       "      <th></th>\n",
       "      <th>제목</th>\n",
       "      <th>저자</th>\n",
       "      <th>역자</th>\n",
       "      <th>출간일</th>\n",
       "      <th>페이지수</th>\n",
       "      <th>가격</th>\n",
       "    </tr>\n",
       "  </thead>\n",
       "  <tbody>\n",
       "    <tr>\n",
       "      <th>0</th>\n",
       "      <td>관리회계 7판</td>\n",
       "      <td>James Jiambalvo</td>\n",
       "      <td>손성진</td>\n",
       "      <td>2023-09-01</td>\n",
       "      <td>572</td>\n",
       "      <td>36000</td>\n",
       "    </tr>\n",
       "    <tr>\n",
       "      <th>1</th>\n",
       "      <td>관리회계 연습문제 풀이집</td>\n",
       "      <td>손성진</td>\n",
       "      <td></td>\n",
       "      <td>2023-09-01</td>\n",
       "      <td>272</td>\n",
       "      <td>11700</td>\n",
       "    </tr>\n",
       "    <tr>\n",
       "      <th>2</th>\n",
       "      <td>IT CookBook, 정보보안 이론과 실제(3판)</td>\n",
       "      <td>Mark Stamp</td>\n",
       "      <td>김경곤, 장은경</td>\n",
       "      <td>2023-08-25</td>\n",
       "      <td>464</td>\n",
       "      <td>32000</td>\n",
       "    </tr>\n",
       "    <tr>\n",
       "      <th>3</th>\n",
       "      <td>패널데이터와 복합표본을 활용한 한번에 적용하는 의학보건통계</td>\n",
       "      <td>히든그레이스 데이터분석팀</td>\n",
       "      <td></td>\n",
       "      <td>2023-08-18</td>\n",
       "      <td>468</td>\n",
       "      <td>34000</td>\n",
       "    </tr>\n",
       "    <tr>\n",
       "      <th>4</th>\n",
       "      <td>IT CookBook, HTML5 웹 프로그래밍 입문(4판)</td>\n",
       "      <td>윤인성</td>\n",
       "      <td></td>\n",
       "      <td>2023-08-05</td>\n",
       "      <td>500</td>\n",
       "      <td>29000</td>\n",
       "    </tr>\n",
       "    <tr>\n",
       "      <th>5</th>\n",
       "      <td>STEM CookBook, 경영경제수학 첫걸음</td>\n",
       "      <td>김진한, 이재원</td>\n",
       "      <td></td>\n",
       "      <td>2023-07-31</td>\n",
       "      <td>476</td>\n",
       "      <td>26000</td>\n",
       "    </tr>\n",
       "    <tr>\n",
       "      <th>6</th>\n",
       "      <td>논리력을 키우는 영어 글쓰기</td>\n",
       "      <td>이요안</td>\n",
       "      <td></td>\n",
       "      <td>2023-07-28</td>\n",
       "      <td>248</td>\n",
       "      <td>20000</td>\n",
       "    </tr>\n",
       "    <tr>\n",
       "      <th>7</th>\n",
       "      <td>IT CookBook, 난생처음 데이터 분석 with 파이썬</td>\n",
       "      <td>김규석, 김주희, 이준</td>\n",
       "      <td></td>\n",
       "      <td>2023-07-24</td>\n",
       "      <td>512</td>\n",
       "      <td>26000</td>\n",
       "    </tr>\n",
       "    <tr>\n",
       "      <th>8</th>\n",
       "      <td>UML다이어그램을 활용한 소프트웨어 창의 설계</td>\n",
       "      <td>박현석, 김연정, 김연우, 지현진</td>\n",
       "      <td></td>\n",
       "      <td>2023-07-13</td>\n",
       "      <td>352</td>\n",
       "      <td>24000</td>\n",
       "    </tr>\n",
       "    <tr>\n",
       "      <th>9</th>\n",
       "      <td>IT CookBook, C 언어 자료구조와 알고리즘 for Beginner</td>\n",
       "      <td>우재남</td>\n",
       "      <td></td>\n",
       "      <td>2023-07-10</td>\n",
       "      <td>536</td>\n",
       "      <td>29000</td>\n",
       "    </tr>\n",
       "    <tr>\n",
       "      <th>10</th>\n",
       "      <td>STEM CookBook, 문제 해결력을 키우는 유체역학</td>\n",
       "      <td>노형운</td>\n",
       "      <td></td>\n",
       "      <td>2023-07-10</td>\n",
       "      <td>728</td>\n",
       "      <td>33000</td>\n",
       "    </tr>\n",
       "    <tr>\n",
       "      <th>11</th>\n",
       "      <td>올인원 스프링 프레임워크</td>\n",
       "      <td>김명호</td>\n",
       "      <td></td>\n",
       "      <td>2023-07-10</td>\n",
       "      <td>628</td>\n",
       "      <td>30000</td>\n",
       "    </tr>\n",
       "    <tr>\n",
       "      <th>12</th>\n",
       "      <td>STEM CookBook, TAO 해석학 Ⅰ(4판)</td>\n",
       "      <td>Terence Tao</td>\n",
       "      <td>한빛수학교재연구소, 권순식(감수)</td>\n",
       "      <td>2023-07-09</td>\n",
       "      <td>420</td>\n",
       "      <td>28000</td>\n",
       "    </tr>\n",
       "    <tr>\n",
       "      <th>13</th>\n",
       "      <td>IT CookBook, 난생처음 앱 인벤터</td>\n",
       "      <td>이종원</td>\n",
       "      <td></td>\n",
       "      <td>2023-06-30</td>\n",
       "      <td>476</td>\n",
       "      <td>26000</td>\n",
       "    </tr>\n",
       "    <tr>\n",
       "      <th>14</th>\n",
       "      <td>IT CookBook, 난생처음 자바 프로그래밍</td>\n",
       "      <td>우재남</td>\n",
       "      <td></td>\n",
       "      <td>2023-06-30</td>\n",
       "      <td>568</td>\n",
       "      <td>29000</td>\n",
       "    </tr>\n",
       "    <tr>\n",
       "      <th>15</th>\n",
       "      <td>STEM CookBook, 확률과 통계 입문(2판)</td>\n",
       "      <td>이재원</td>\n",
       "      <td></td>\n",
       "      <td>2023-06-30</td>\n",
       "      <td>500</td>\n",
       "      <td>25000</td>\n",
       "    </tr>\n",
       "    <tr>\n",
       "      <th>16</th>\n",
       "      <td>경영경제 통계학 노트</td>\n",
       "      <td>장혜정, 김현우</td>\n",
       "      <td></td>\n",
       "      <td>2023-06-30</td>\n",
       "      <td>424</td>\n",
       "      <td>26000</td>\n",
       "    </tr>\n",
       "    <tr>\n",
       "      <th>17</th>\n",
       "      <td>IT CookBook, 원리가 보이는 파이썬 빅데이터 분석 기초와 실습</td>\n",
       "      <td>천세학</td>\n",
       "      <td></td>\n",
       "      <td>2023-06-25</td>\n",
       "      <td>448</td>\n",
       "      <td>28000</td>\n",
       "    </tr>\n",
       "    <tr>\n",
       "      <th>18</th>\n",
       "      <td>IT CookBook, Verilog HDL 설계</td>\n",
       "      <td>신경욱</td>\n",
       "      <td></td>\n",
       "      <td>2023-06-23</td>\n",
       "      <td>584</td>\n",
       "      <td>36000</td>\n",
       "    </tr>\n",
       "    <tr>\n",
       "      <th>19</th>\n",
       "      <td>미분기하학 바이블(2판)</td>\n",
       "      <td>Manfredo P. do Carmo</td>\n",
       "      <td>한빛수학교재연구소, 이재혁(감수)</td>\n",
       "      <td>2023-06-09</td>\n",
       "      <td>532</td>\n",
       "      <td>35000</td>\n",
       "    </tr>\n",
       "  </tbody>\n",
       "</table>\n",
       "</div>"
      ],
      "text/plain": [
       "                                           제목                    저자  \\\n",
       "0                                     관리회계 7판       James Jiambalvo   \n",
       "1                               관리회계 연습문제 풀이집                   손성진   \n",
       "2                IT CookBook, 정보보안 이론과 실제(3판)            Mark Stamp   \n",
       "3            패널데이터와 복합표본을 활용한 한번에 적용하는 의학보건통계         히든그레이스 데이터분석팀   \n",
       "4           IT CookBook, HTML5 웹 프로그래밍 입문(4판)                   윤인성   \n",
       "5                   STEM CookBook, 경영경제수학 첫걸음              김진한, 이재원   \n",
       "6                             논리력을 키우는 영어 글쓰기                   이요안   \n",
       "7           IT CookBook, 난생처음 데이터 분석 with 파이썬          김규석, 김주희, 이준   \n",
       "8                   UML다이어그램을 활용한 소프트웨어 창의 설계    박현석, 김연정, 김연우, 지현진   \n",
       "9   IT CookBook, C 언어 자료구조와 알고리즘 for Beginner                   우재남   \n",
       "10            STEM CookBook, 문제 해결력을 키우는 유체역학                   노형운   \n",
       "11                              올인원 스프링 프레임워크                   김명호   \n",
       "12               STEM CookBook, TAO 해석학 Ⅰ(4판)           Terence Tao   \n",
       "13                    IT CookBook, 난생처음 앱 인벤터                   이종원   \n",
       "14                 IT CookBook, 난생처음 자바 프로그래밍                   우재남   \n",
       "15               STEM CookBook, 확률과 통계 입문(2판)                   이재원   \n",
       "16                                경영경제 통계학 노트              장혜정, 김현우   \n",
       "17    IT CookBook, 원리가 보이는 파이썬 빅데이터 분석 기초와 실습                   천세학   \n",
       "18                IT CookBook, Verilog HDL 설계                   신경욱   \n",
       "19                              미분기하학 바이블(2판)  Manfredo P. do Carmo   \n",
       "\n",
       "                    역자         출간일  페이지수     가격  \n",
       "0                  손성진  2023-09-01   572  36000  \n",
       "1                       2023-09-01   272  11700  \n",
       "2             김경곤, 장은경  2023-08-25   464  32000  \n",
       "3                       2023-08-18   468  34000  \n",
       "4                       2023-08-05   500  29000  \n",
       "5                       2023-07-31   476  26000  \n",
       "6                       2023-07-28   248  20000  \n",
       "7                       2023-07-24   512  26000  \n",
       "8                       2023-07-13   352  24000  \n",
       "9                       2023-07-10   536  29000  \n",
       "10                      2023-07-10   728  33000  \n",
       "11                      2023-07-10   628  30000  \n",
       "12  한빛수학교재연구소, 권순식(감수)  2023-07-09   420  28000  \n",
       "13                      2023-06-30   476  26000  \n",
       "14                      2023-06-30   568  29000  \n",
       "15                      2023-06-30   500  25000  \n",
       "16                      2023-06-30   424  26000  \n",
       "17                      2023-06-25   448  28000  \n",
       "18                      2023-06-23   584  36000  \n",
       "19  한빛수학교재연구소, 이재혁(감수)  2023-06-09   532  35000  "
      ]
     },
     "execution_count": 19,
     "metadata": {},
     "output_type": "execute_result"
    }
   ],
   "source": [
    "pd.DataFrame(data)"
   ]
  },
  {
   "cell_type": "markdown",
   "metadata": {},
   "source": [
    "- Step 5. 생략\n",
    "- Step 6. 모든 페이지의 정보 가져오기"
   ]
  },
  {
   "cell_type": "code",
   "execution_count": 20,
   "metadata": {},
   "outputs": [
    {
     "name": "stderr",
     "output_type": "stream",
     "text": [
      "100%|██████████| 23/23 [03:25<00:00,  8.92s/it]\n"
     ]
    }
   ],
   "source": [
    "data = []\n",
    "for page in tqdm(range(1, 24)):\n",
    "    url = f'{base_url}{main_url}?page={page}'\n",
    "    res = requests.get(url)\n",
    "    soup = BeautifulSoup(res.text, 'html.parser')\n",
    "    lis = soup.select('.sub_book_list')\n",
    "    \n",
    "    for li in lis:\n",
    "        sub_href = li.select_one('.book_tit > a')['href']\n",
    "        sub_url = base_url + sub_href\n",
    "        sub_res = requests.get(sub_url)\n",
    "        sub_soup = BeautifulSoup(sub_res.text, 'html.parser')\n",
    "        \n",
    "        title = sub_soup.select_one('.store_product_info_box > h3').get_text().strip()\n",
    "        sub_lis = sub_soup.select('.info_list > li')\n",
    "        info_dict = {}\n",
    "        for sub_li in sub_lis[:-1]:\n",
    "            key = sub_li.find('strong').get_text().strip()\n",
    "            value = sub_li.find('span').get_text().strip()\n",
    "            info_dict[key[:-2]] = value\n",
    "        price = int(sub_soup.select_one('.pbr > strong').string.replace(',',''))\n",
    "        \n",
    "        author = ', '.join(info_dict['저자'].split(' , '))\n",
    "        translator = info_dict['번역'].replace(' ,', ',') if '번역' in info_dict.keys() else ' '\n",
    "        date = info_dict['출간']\n",
    "        page = int(info_dict['페이지'][:-2])\n",
    "\n",
    "        data.append({'제목':title, '저자':author, '역자':translator, '출간일':date,\n",
    "                    '페이지수':page, '가격':price})"
   ]
  },
  {
   "cell_type": "markdown",
   "metadata": {},
   "source": [
    "- Step 7"
   ]
  },
  {
   "cell_type": "code",
   "execution_count": 21,
   "metadata": {},
   "outputs": [
    {
     "data": {
      "text/html": [
       "<div>\n",
       "<style scoped>\n",
       "    .dataframe tbody tr th:only-of-type {\n",
       "        vertical-align: middle;\n",
       "    }\n",
       "\n",
       "    .dataframe tbody tr th {\n",
       "        vertical-align: top;\n",
       "    }\n",
       "\n",
       "    .dataframe thead th {\n",
       "        text-align: right;\n",
       "    }\n",
       "</style>\n",
       "<table border=\"1\" class=\"dataframe\">\n",
       "  <thead>\n",
       "    <tr style=\"text-align: right;\">\n",
       "      <th></th>\n",
       "      <th>제목</th>\n",
       "      <th>저자</th>\n",
       "      <th>역자</th>\n",
       "      <th>출간일</th>\n",
       "      <th>페이지수</th>\n",
       "      <th>가격</th>\n",
       "    </tr>\n",
       "  </thead>\n",
       "  <tbody>\n",
       "    <tr>\n",
       "      <th>448</th>\n",
       "      <td>문제해결력을 키우는 이공계 글쓰기 : 발표와 토론까지</td>\n",
       "      <td>한성우</td>\n",
       "      <td></td>\n",
       "      <td>2013-02-28</td>\n",
       "      <td>396</td>\n",
       "      <td>18000</td>\n",
       "    </tr>\n",
       "    <tr>\n",
       "      <th>449</th>\n",
       "      <td>Essential Calculus</td>\n",
       "      <td>James Stewart</td>\n",
       "      <td></td>\n",
       "      <td>2012-07-08</td>\n",
       "      <td>960</td>\n",
       "      <td>36000</td>\n",
       "    </tr>\n",
       "    <tr>\n",
       "      <th>450</th>\n",
       "      <td>의사결정회계</td>\n",
       "      <td>정재권</td>\n",
       "      <td></td>\n",
       "      <td>2011-08-25</td>\n",
       "      <td>506</td>\n",
       "      <td>28000</td>\n",
       "    </tr>\n",
       "    <tr>\n",
       "      <th>451</th>\n",
       "      <td>IT CookBook, 디지털 통신 시스템 : Digital Communicatio...</td>\n",
       "      <td>정호영, 임승각</td>\n",
       "      <td></td>\n",
       "      <td>2011-01-31</td>\n",
       "      <td>576</td>\n",
       "      <td>25000</td>\n",
       "    </tr>\n",
       "    <tr>\n",
       "      <th>452</th>\n",
       "      <td>인간관계론</td>\n",
       "      <td>유기현, 송병선, 권용만</td>\n",
       "      <td></td>\n",
       "      <td>2008-09-15</td>\n",
       "      <td>415</td>\n",
       "      <td>25000</td>\n",
       "    </tr>\n",
       "  </tbody>\n",
       "</table>\n",
       "</div>"
      ],
      "text/plain": [
       "                                                    제목             저자 역자  \\\n",
       "448                      문제해결력을 키우는 이공계 글쓰기 : 발표와 토론까지            한성우      \n",
       "449                                 Essential Calculus  James Stewart      \n",
       "450                                             의사결정회계            정재권      \n",
       "451  IT CookBook, 디지털 통신 시스템 : Digital Communicatio...       정호영, 임승각      \n",
       "452                                              인간관계론  유기현, 송병선, 권용만      \n",
       "\n",
       "            출간일  페이지수     가격  \n",
       "448  2013-02-28   396  18000  \n",
       "449  2012-07-08   960  36000  \n",
       "450  2011-08-25   506  28000  \n",
       "451  2011-01-31   576  25000  \n",
       "452  2008-09-15   415  25000  "
      ]
     },
     "execution_count": 21,
     "metadata": {},
     "output_type": "execute_result"
    }
   ],
   "source": [
    "df = pd.DataFrame(data)\n",
    "df.tail()"
   ]
  },
  {
   "cell_type": "code",
   "execution_count": 22,
   "metadata": {},
   "outputs": [
    {
     "data": {
      "text/html": [
       "<div>\n",
       "<style scoped>\n",
       "    .dataframe tbody tr th:only-of-type {\n",
       "        vertical-align: middle;\n",
       "    }\n",
       "\n",
       "    .dataframe tbody tr th {\n",
       "        vertical-align: top;\n",
       "    }\n",
       "\n",
       "    .dataframe thead th {\n",
       "        text-align: right;\n",
       "    }\n",
       "</style>\n",
       "<table border=\"1\" class=\"dataframe\">\n",
       "  <thead>\n",
       "    <tr style=\"text-align: right;\">\n",
       "      <th></th>\n",
       "      <th>제목</th>\n",
       "      <th>저자</th>\n",
       "      <th>역자</th>\n",
       "      <th>출간일</th>\n",
       "      <th>페이지수</th>\n",
       "      <th>가격</th>\n",
       "    </tr>\n",
       "  </thead>\n",
       "  <tbody>\n",
       "    <tr>\n",
       "      <th>448</th>\n",
       "      <td>문제해결력을 키우는 이공계 글쓰기 : 발표와 토론까지</td>\n",
       "      <td>한성우</td>\n",
       "      <td></td>\n",
       "      <td>2013-02-28</td>\n",
       "      <td>396</td>\n",
       "      <td>18000</td>\n",
       "    </tr>\n",
       "    <tr>\n",
       "      <th>449</th>\n",
       "      <td>Essential Calculus</td>\n",
       "      <td>James Stewart</td>\n",
       "      <td></td>\n",
       "      <td>2012-07-08</td>\n",
       "      <td>960</td>\n",
       "      <td>36000</td>\n",
       "    </tr>\n",
       "    <tr>\n",
       "      <th>450</th>\n",
       "      <td>의사결정회계</td>\n",
       "      <td>정재권</td>\n",
       "      <td></td>\n",
       "      <td>2011-08-25</td>\n",
       "      <td>506</td>\n",
       "      <td>28000</td>\n",
       "    </tr>\n",
       "    <tr>\n",
       "      <th>451</th>\n",
       "      <td>IT CookBook, 디지털 통신 시스템 : Digital Communicatio...</td>\n",
       "      <td>정호영, 임승각</td>\n",
       "      <td></td>\n",
       "      <td>2011-01-31</td>\n",
       "      <td>576</td>\n",
       "      <td>25000</td>\n",
       "    </tr>\n",
       "    <tr>\n",
       "      <th>452</th>\n",
       "      <td>인간관계론</td>\n",
       "      <td>유기현, 송병선, 권용만</td>\n",
       "      <td></td>\n",
       "      <td>2008-09-15</td>\n",
       "      <td>415</td>\n",
       "      <td>25000</td>\n",
       "    </tr>\n",
       "  </tbody>\n",
       "</table>\n",
       "</div>"
      ],
      "text/plain": [
       "                                                    제목             저자 역자  \\\n",
       "448                      문제해결력을 키우는 이공계 글쓰기 : 발표와 토론까지            한성우      \n",
       "449                                 Essential Calculus  James Stewart      \n",
       "450                                             의사결정회계            정재권      \n",
       "451  IT CookBook, 디지털 통신 시스템 : Digital Communicatio...       정호영, 임승각      \n",
       "452                                              인간관계론  유기현, 송병선, 권용만      \n",
       "\n",
       "            출간일  페이지수     가격  \n",
       "448  2013-02-28   396  18000  \n",
       "449  2012-07-08   960  36000  \n",
       "450  2011-08-25   506  28000  \n",
       "451  2011-01-31   576  25000  \n",
       "452  2008-09-15   415  25000  "
      ]
     },
     "execution_count": 22,
     "metadata": {},
     "output_type": "execute_result"
    }
   ],
   "source": [
    "df.to_csv('data/한빛신간도서_230918.csv', index=False)\n",
    "pd.read_csv('data/한빛신간도서_230918.csv').tail()"
   ]
  },
  {
   "cell_type": "code",
   "execution_count": null,
   "metadata": {},
   "outputs": [],
   "source": []
  }
 ],
 "metadata": {
  "kernelspec": {
   "display_name": "base",
   "language": "python",
   "name": "python3"
  },
  "language_info": {
   "codemirror_mode": {
    "name": "ipython",
    "version": 3
   },
   "file_extension": ".py",
   "mimetype": "text/x-python",
   "name": "python",
   "nbconvert_exporter": "python",
   "pygments_lexer": "ipython3",
   "version": "3.11.4"
  },
  "orig_nbformat": 4
 },
 "nbformat": 4,
 "nbformat_minor": 2
}
