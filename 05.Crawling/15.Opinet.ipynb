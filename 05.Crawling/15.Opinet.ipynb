{
 "cells": [
  {
   "cell_type": "markdown",
   "metadata": {},
   "source": [
    "## Opinet - 셀프주유소가 정말 저렴할까?"
   ]
  },
  {
   "cell_type": "code",
   "execution_count": 1,
   "metadata": {},
   "outputs": [],
   "source": [
    "import time\n",
    "import pandas as pd \n",
    "from bs4 import BeautifulSoup\n",
    "from selenium import webdriver\n",
    "from selenium.webdriver.common.by import By \n",
    "from selenium.webdriver.common.keys import Keys"
   ]
  },
  {
   "cell_type": "markdown",
   "metadata": {},
   "source": [
    "##### 1. 셀레니움으로 서울시 구별 주유소 가격정보 얻기"
   ]
  },
  {
   "cell_type": "code",
   "execution_count": 2,
   "metadata": {},
   "outputs": [],
   "source": [
    "# Opinet 초기화면 > 싼 주유소 찾기 > 지역별\n",
    "url = 'https://www.opinet.co.kr/searRgSelect.do'\n",
    "driver = webdriver.Chrome()\n",
    "driver.get(url)\n",
    "time.sleep(2)"
   ]
  },
  {
   "cell_type": "code",
   "execution_count": 3,
   "metadata": {},
   "outputs": [],
   "source": [
    "# 광역시도에서 서울 입력\n",
    "metro = driver.find_element(By.ID, 'SIDO_NM0')\n",
    "metro.send_keys('서울')"
   ]
  },
  {
   "cell_type": "code",
   "execution_count": 4,
   "metadata": {},
   "outputs": [
    {
     "data": {
      "text/plain": [
       "[<selenium.webdriver.remote.webelement.WebElement (session=\"a2b9fe230eb5a76c0c50b5d65635daaf\", element=\"425AEFEFD11DAF439C1CA6DECF89B9AA_element_133\")>,\n",
       " <selenium.webdriver.remote.webelement.WebElement (session=\"a2b9fe230eb5a76c0c50b5d65635daaf\", element=\"425AEFEFD11DAF439C1CA6DECF89B9AA_element_135\")>,\n",
       " <selenium.webdriver.remote.webelement.WebElement (session=\"a2b9fe230eb5a76c0c50b5d65635daaf\", element=\"425AEFEFD11DAF439C1CA6DECF89B9AA_element_137\")>]"
      ]
     },
     "execution_count": 4,
     "metadata": {},
     "output_type": "execute_result"
    }
   ],
   "source": [
    "# 서울시 자치구 리스트 가져오기\n",
    "sigungu = driver.find_element(By.ID, 'SIGUNGU_NM0')\n",
    "gu_list = sigungu.find_elements(By.TAG_NAME, 'option')\n",
    "gu_list[:3]"
   ]
  },
  {
   "cell_type": "code",
   "execution_count": 5,
   "metadata": {},
   "outputs": [
    {
     "data": {
      "text/plain": [
       "('시/군/구', '강남구')"
      ]
     },
     "execution_count": 5,
     "metadata": {},
     "output_type": "execute_result"
    }
   ],
   "source": [
    "gu_list[0].text, gu_list[1].text"
   ]
  },
  {
   "cell_type": "code",
   "execution_count": 7,
   "metadata": {},
   "outputs": [
    {
     "data": {
      "text/plain": [
       "['강남구', '강동구', '강북구']"
      ]
     },
     "execution_count": 7,
     "metadata": {},
     "output_type": "execute_result"
    }
   ],
   "source": [
    "gu_names = [ gu.text for gu in gu_list[1:]]\n",
    "gu_names[:3]"
   ]
  },
  {
   "cell_type": "code",
   "execution_count": 8,
   "metadata": {},
   "outputs": [],
   "source": [
    "# 강남구 선택\n",
    "sigungu.send_keys(gu_names[0])"
   ]
  },
  {
   "cell_type": "code",
   "execution_count": 9,
   "metadata": {},
   "outputs": [],
   "source": [
    "# 엑셀 저장\n",
    "driver.find_element(By.ID, 'glopopd_excel').click()\n",
    "time.sleep(2)"
   ]
  },
  {
   "cell_type": "code",
   "execution_count": 11,
   "metadata": {},
   "outputs": [],
   "source": [
    "# 강남구를 제외한 나머지 자치구에 대해서 주유소 가격정보 엑셀 저장\n",
    "for gu in gu_names[1:]:\n",
    "    sigungu = driver.find_element(By.ID, 'SIGUNGU_NM0')\n",
    "    sigungu.send_keys(gu)\n",
    "    time.sleep(3)\n",
    "    driver.find_element(By.ID, 'glopopd_excel').click()\n",
    "    time.sleep(3)"
   ]
  },
  {
   "cell_type": "code",
   "execution_count": 12,
   "metadata": {},
   "outputs": [],
   "source": [
    "driver.close()"
   ]
  },
  {
   "cell_type": "markdown",
   "metadata": {},
   "source": [
    "##### 2. 구별 휘발유 가격에 대한 정리"
   ]
  },
  {
   "cell_type": "code",
   "execution_count": 13,
   "metadata": {},
   "outputs": [
    {
     "data": {
      "text/plain": [
       "['c:/Users/human/Downloads\\\\지역_위치별(주유소) (1).xls',\n",
       " 'c:/Users/human/Downloads\\\\지역_위치별(주유소) (10).xls',\n",
       " 'c:/Users/human/Downloads\\\\지역_위치별(주유소) (11).xls',\n",
       " 'c:/Users/human/Downloads\\\\지역_위치별(주유소) (12).xls',\n",
       " 'c:/Users/human/Downloads\\\\지역_위치별(주유소) (13).xls',\n",
       " 'c:/Users/human/Downloads\\\\지역_위치별(주유소) (14).xls',\n",
       " 'c:/Users/human/Downloads\\\\지역_위치별(주유소) (15).xls',\n",
       " 'c:/Users/human/Downloads\\\\지역_위치별(주유소) (16).xls',\n",
       " 'c:/Users/human/Downloads\\\\지역_위치별(주유소) (17).xls',\n",
       " 'c:/Users/human/Downloads\\\\지역_위치별(주유소) (18).xls',\n",
       " 'c:/Users/human/Downloads\\\\지역_위치별(주유소) (19).xls',\n",
       " 'c:/Users/human/Downloads\\\\지역_위치별(주유소) (2).xls',\n",
       " 'c:/Users/human/Downloads\\\\지역_위치별(주유소) (20).xls',\n",
       " 'c:/Users/human/Downloads\\\\지역_위치별(주유소) (21).xls',\n",
       " 'c:/Users/human/Downloads\\\\지역_위치별(주유소) (22).xls',\n",
       " 'c:/Users/human/Downloads\\\\지역_위치별(주유소) (23).xls',\n",
       " 'c:/Users/human/Downloads\\\\지역_위치별(주유소) (24).xls',\n",
       " 'c:/Users/human/Downloads\\\\지역_위치별(주유소) (3).xls',\n",
       " 'c:/Users/human/Downloads\\\\지역_위치별(주유소) (4).xls',\n",
       " 'c:/Users/human/Downloads\\\\지역_위치별(주유소) (5).xls',\n",
       " 'c:/Users/human/Downloads\\\\지역_위치별(주유소) (6).xls',\n",
       " 'c:/Users/human/Downloads\\\\지역_위치별(주유소) (7).xls',\n",
       " 'c:/Users/human/Downloads\\\\지역_위치별(주유소) (8).xls',\n",
       " 'c:/Users/human/Downloads\\\\지역_위치별(주유소) (9).xls',\n",
       " 'c:/Users/human/Downloads\\\\지역_위치별(주유소).xls']"
      ]
     },
     "execution_count": 13,
     "metadata": {},
     "output_type": "execute_result"
    }
   ],
   "source": [
    "from glob import glob\n",
    "glob('c:/Users/human/Downloads/지역*.xls')"
   ]
  },
  {
   "cell_type": "code",
   "execution_count": 15,
   "metadata": {},
   "outputs": [
    {
     "data": {
      "text/html": [
       "<div>\n",
       "<style scoped>\n",
       "    .dataframe tbody tr th:only-of-type {\n",
       "        vertical-align: middle;\n",
       "    }\n",
       "\n",
       "    .dataframe tbody tr th {\n",
       "        vertical-align: top;\n",
       "    }\n",
       "\n",
       "    .dataframe thead th {\n",
       "        text-align: right;\n",
       "    }\n",
       "</style>\n",
       "<table border=\"1\" class=\"dataframe\">\n",
       "  <thead>\n",
       "    <tr style=\"text-align: right;\">\n",
       "      <th></th>\n",
       "      <th>지역</th>\n",
       "      <th>상호</th>\n",
       "      <th>주소</th>\n",
       "      <th>상표</th>\n",
       "      <th>전화번호</th>\n",
       "      <th>셀프여부</th>\n",
       "      <th>고급휘발유</th>\n",
       "      <th>휘발유</th>\n",
       "      <th>경유</th>\n",
       "      <th>실내등유</th>\n",
       "    </tr>\n",
       "  </thead>\n",
       "  <tbody>\n",
       "    <tr>\n",
       "      <th>0</th>\n",
       "      <td>서울특별시</td>\n",
       "      <td>(주)보성 세곡주유소</td>\n",
       "      <td>서울 강남구  헌릉로 731 (세곡동)</td>\n",
       "      <td>SK에너지</td>\n",
       "      <td>02-445-6870</td>\n",
       "      <td>Y</td>\n",
       "      <td>-</td>\n",
       "      <td>1769</td>\n",
       "      <td>1668</td>\n",
       "      <td>-</td>\n",
       "    </tr>\n",
       "    <tr>\n",
       "      <th>1</th>\n",
       "      <td>서울특별시</td>\n",
       "      <td>HD현대오일뱅크㈜직영 산성셀프주유소</td>\n",
       "      <td>서울 강남구 헌릉로 730</td>\n",
       "      <td>HD현대오일뱅크</td>\n",
       "      <td>02-2226-4963</td>\n",
       "      <td>Y</td>\n",
       "      <td>1978</td>\n",
       "      <td>1788</td>\n",
       "      <td>1688</td>\n",
       "      <td>-</td>\n",
       "    </tr>\n",
       "    <tr>\n",
       "      <th>2</th>\n",
       "      <td>서울특별시</td>\n",
       "      <td>삼성동주유소</td>\n",
       "      <td>서울 강남구 테헤란로 619 (삼성동)</td>\n",
       "      <td>HD현대오일뱅크</td>\n",
       "      <td>02-508-6572</td>\n",
       "      <td>Y</td>\n",
       "      <td>2025</td>\n",
       "      <td>1795</td>\n",
       "      <td>1735</td>\n",
       "      <td>-</td>\n",
       "    </tr>\n",
       "  </tbody>\n",
       "</table>\n",
       "</div>"
      ],
      "text/plain": [
       "      지역                   상호                     주소        상표          전화번호  \\\n",
       "0  서울특별시          (주)보성 세곡주유소  서울 강남구  헌릉로 731 (세곡동)     SK에너지   02-445-6870   \n",
       "1  서울특별시  HD현대오일뱅크㈜직영 산성셀프주유소         서울 강남구 헌릉로 730  HD현대오일뱅크  02-2226-4963   \n",
       "2  서울특별시               삼성동주유소  서울 강남구 테헤란로 619 (삼성동)  HD현대오일뱅크   02-508-6572   \n",
       "\n",
       "  셀프여부 고급휘발유   휘발유    경유 실내등유  \n",
       "0    Y     -  1769  1668    -  \n",
       "1    Y  1978  1788  1688    -  \n",
       "2    Y  2025  1795  1735    -  "
      ]
     },
     "execution_count": 15,
     "metadata": {},
     "output_type": "execute_result"
    }
   ],
   "source": [
    "# conda activate base; pip install xlrd\n",
    "filename = 'c:/Users/human/Downloads/지역_위치별(주유소).xls'\n",
    "df = pd.read_excel(filename, header=2)\n",
    "df.head(3)"
   ]
  },
  {
   "cell_type": "code",
   "execution_count": 16,
   "metadata": {},
   "outputs": [],
   "source": [
    "# 25개 파일을 읽어서 하나의 데이터프레임으로 만들기\n",
    "df_list = []\n",
    "for filename in glob('c:/Users/human/Downloads/지역*.xls'):\n",
    "    df = pd.read_excel(filename, header=2)\n",
    "    df_list.append(df)"
   ]
  },
  {
   "cell_type": "code",
   "execution_count": 17,
   "metadata": {},
   "outputs": [
    {
     "data": {
      "text/plain": [
       "(439, 10)"
      ]
     },
     "execution_count": 17,
     "metadata": {},
     "output_type": "execute_result"
    }
   ],
   "source": [
    "df = pd.concat(df_list)\n",
    "df.shape"
   ]
  },
  {
   "cell_type": "code",
   "execution_count": 18,
   "metadata": {},
   "outputs": [
    {
     "data": {
      "text/html": [
       "<div>\n",
       "<style scoped>\n",
       "    .dataframe tbody tr th:only-of-type {\n",
       "        vertical-align: middle;\n",
       "    }\n",
       "\n",
       "    .dataframe tbody tr th {\n",
       "        vertical-align: top;\n",
       "    }\n",
       "\n",
       "    .dataframe thead th {\n",
       "        text-align: right;\n",
       "    }\n",
       "</style>\n",
       "<table border=\"1\" class=\"dataframe\">\n",
       "  <thead>\n",
       "    <tr style=\"text-align: right;\">\n",
       "      <th></th>\n",
       "      <th>상호</th>\n",
       "      <th>주소</th>\n",
       "      <th>가격</th>\n",
       "      <th>셀프</th>\n",
       "      <th>상표</th>\n",
       "    </tr>\n",
       "  </thead>\n",
       "  <tbody>\n",
       "    <tr>\n",
       "      <th>0</th>\n",
       "      <td>재건에너지 재정제2주유소 고속셀프지점</td>\n",
       "      <td>서울특별시 강동구  천호대로 1246 (둔촌제2동)</td>\n",
       "      <td>1779</td>\n",
       "      <td>Y</td>\n",
       "      <td>HD현대오일뱅크</td>\n",
       "    </tr>\n",
       "    <tr>\n",
       "      <th>1</th>\n",
       "      <td>구천면주유소</td>\n",
       "      <td>서울 강동구 구천면로 357 (암사동)</td>\n",
       "      <td>1824</td>\n",
       "      <td>N</td>\n",
       "      <td>HD현대오일뱅크</td>\n",
       "    </tr>\n",
       "    <tr>\n",
       "      <th>2</th>\n",
       "      <td>(주)삼표에너지 고덕주유소</td>\n",
       "      <td>서울 강동구 고덕로 39 (암사동)</td>\n",
       "      <td>1835</td>\n",
       "      <td>Y</td>\n",
       "      <td>GS칼텍스</td>\n",
       "    </tr>\n",
       "    <tr>\n",
       "      <th>3</th>\n",
       "      <td>(주)소모 신월주유소</td>\n",
       "      <td>서울 강동구 양재대로 1323 (성내동)</td>\n",
       "      <td>1836</td>\n",
       "      <td>Y</td>\n",
       "      <td>GS칼텍스</td>\n",
       "    </tr>\n",
       "    <tr>\n",
       "      <th>4</th>\n",
       "      <td>대성석유(주)길동주유소</td>\n",
       "      <td>서울 강동구 천호대로 1168</td>\n",
       "      <td>1846</td>\n",
       "      <td>N</td>\n",
       "      <td>GS칼텍스</td>\n",
       "    </tr>\n",
       "  </tbody>\n",
       "</table>\n",
       "</div>"
      ],
      "text/plain": [
       "                     상호                            주소    가격 셀프        상표\n",
       "0  재건에너지 재정제2주유소 고속셀프지점  서울특별시 강동구  천호대로 1246 (둔촌제2동)  1779  Y  HD현대오일뱅크\n",
       "1                구천면주유소         서울 강동구 구천면로 357 (암사동)  1824  N  HD현대오일뱅크\n",
       "2        (주)삼표에너지 고덕주유소           서울 강동구 고덕로 39 (암사동)  1835  Y     GS칼텍스\n",
       "3           (주)소모 신월주유소        서울 강동구 양재대로 1323 (성내동)  1836  Y     GS칼텍스\n",
       "4          대성석유(주)길동주유소              서울 강동구 천호대로 1168  1846  N     GS칼텍스"
      ]
     },
     "execution_count": 18,
     "metadata": {},
     "output_type": "execute_result"
    }
   ],
   "source": [
    "df = df[['상호', '주소', '휘발유', '셀프여부', '상표']]\n",
    "df.rename(columns={'휘발유':'가격', '셀프여부':'셀프'}, inplace=True)\n",
    "df.head()"
   ]
  },
  {
   "cell_type": "code",
   "execution_count": 19,
   "metadata": {},
   "outputs": [
    {
     "data": {
      "text/html": [
       "<div>\n",
       "<style scoped>\n",
       "    .dataframe tbody tr th:only-of-type {\n",
       "        vertical-align: middle;\n",
       "    }\n",
       "\n",
       "    .dataframe tbody tr th {\n",
       "        vertical-align: top;\n",
       "    }\n",
       "\n",
       "    .dataframe thead th {\n",
       "        text-align: right;\n",
       "    }\n",
       "</style>\n",
       "<table border=\"1\" class=\"dataframe\">\n",
       "  <thead>\n",
       "    <tr style=\"text-align: right;\">\n",
       "      <th></th>\n",
       "      <th>상호</th>\n",
       "      <th>주소</th>\n",
       "      <th>가격</th>\n",
       "      <th>셀프</th>\n",
       "      <th>상표</th>\n",
       "    </tr>\n",
       "  </thead>\n",
       "  <tbody>\n",
       "    <tr>\n",
       "      <th>29</th>\n",
       "      <td>갤러리아주유소</td>\n",
       "      <td>서울 강남구 압구정로 426</td>\n",
       "      <td>2330</td>\n",
       "      <td>N</td>\n",
       "      <td>SK에너지</td>\n",
       "    </tr>\n",
       "    <tr>\n",
       "      <th>30</th>\n",
       "      <td>㈜새서울석유 새서울주유소</td>\n",
       "      <td>서울 강남구 압구정로 154</td>\n",
       "      <td>2348</td>\n",
       "      <td>N</td>\n",
       "      <td>HD현대오일뱅크</td>\n",
       "    </tr>\n",
       "    <tr>\n",
       "      <th>31</th>\n",
       "      <td>SK논현주유소</td>\n",
       "      <td>서울 강남구 논현로 747 (논현동)</td>\n",
       "      <td>2390</td>\n",
       "      <td>N</td>\n",
       "      <td>SK에너지</td>\n",
       "    </tr>\n",
       "    <tr>\n",
       "      <th>32</th>\n",
       "      <td>(주)제이제이네트웍스 제이제이주유소</td>\n",
       "      <td>서울 강남구 언주로 716</td>\n",
       "      <td>2560</td>\n",
       "      <td>N</td>\n",
       "      <td>HD현대오일뱅크</td>\n",
       "    </tr>\n",
       "    <tr>\n",
       "      <th>33</th>\n",
       "      <td>(주)만정에너지 삼보주유소</td>\n",
       "      <td>서울 강남구 봉은사로 433 (삼성동)</td>\n",
       "      <td>2598</td>\n",
       "      <td>N</td>\n",
       "      <td>GS칼텍스</td>\n",
       "    </tr>\n",
       "  </tbody>\n",
       "</table>\n",
       "</div>"
      ],
      "text/plain": [
       "                     상호                     주소    가격 셀프        상표\n",
       "29              갤러리아주유소        서울 강남구 압구정로 426  2330  N     SK에너지\n",
       "30        ㈜새서울석유 새서울주유소        서울 강남구 압구정로 154  2348  N  HD현대오일뱅크\n",
       "31              SK논현주유소   서울 강남구 논현로 747 (논현동)  2390  N     SK에너지\n",
       "32  (주)제이제이네트웍스 제이제이주유소         서울 강남구 언주로 716  2560  N  HD현대오일뱅크\n",
       "33       (주)만정에너지 삼보주유소  서울 강남구 봉은사로 433 (삼성동)  2598  N     GS칼텍스"
      ]
     },
     "execution_count": 19,
     "metadata": {},
     "output_type": "execute_result"
    }
   ],
   "source": [
    "df.tail()"
   ]
  },
  {
   "cell_type": "code",
   "execution_count": 23,
   "metadata": {},
   "outputs": [
    {
     "data": {
      "text/html": [
       "<div>\n",
       "<style scoped>\n",
       "    .dataframe tbody tr th:only-of-type {\n",
       "        vertical-align: middle;\n",
       "    }\n",
       "\n",
       "    .dataframe tbody tr th {\n",
       "        vertical-align: top;\n",
       "    }\n",
       "\n",
       "    .dataframe thead th {\n",
       "        text-align: right;\n",
       "    }\n",
       "</style>\n",
       "<table border=\"1\" class=\"dataframe\">\n",
       "  <thead>\n",
       "    <tr style=\"text-align: right;\">\n",
       "      <th></th>\n",
       "      <th>상호</th>\n",
       "      <th>주소</th>\n",
       "      <th>가격</th>\n",
       "      <th>셀프</th>\n",
       "      <th>상표</th>\n",
       "      <th>구</th>\n",
       "    </tr>\n",
       "  </thead>\n",
       "  <tbody>\n",
       "    <tr>\n",
       "      <th>434</th>\n",
       "      <td>갤러리아주유소</td>\n",
       "      <td>서울 강남구 압구정로 426</td>\n",
       "      <td>2330</td>\n",
       "      <td>N</td>\n",
       "      <td>SK에너지</td>\n",
       "      <td>강남구</td>\n",
       "    </tr>\n",
       "    <tr>\n",
       "      <th>435</th>\n",
       "      <td>㈜새서울석유 새서울주유소</td>\n",
       "      <td>서울 강남구 압구정로 154</td>\n",
       "      <td>2348</td>\n",
       "      <td>N</td>\n",
       "      <td>HD현대오일뱅크</td>\n",
       "      <td>강남구</td>\n",
       "    </tr>\n",
       "    <tr>\n",
       "      <th>436</th>\n",
       "      <td>SK논현주유소</td>\n",
       "      <td>서울 강남구 논현로 747 (논현동)</td>\n",
       "      <td>2390</td>\n",
       "      <td>N</td>\n",
       "      <td>SK에너지</td>\n",
       "      <td>강남구</td>\n",
       "    </tr>\n",
       "    <tr>\n",
       "      <th>437</th>\n",
       "      <td>(주)제이제이네트웍스 제이제이주유소</td>\n",
       "      <td>서울 강남구 언주로 716</td>\n",
       "      <td>2560</td>\n",
       "      <td>N</td>\n",
       "      <td>HD현대오일뱅크</td>\n",
       "      <td>강남구</td>\n",
       "    </tr>\n",
       "    <tr>\n",
       "      <th>438</th>\n",
       "      <td>(주)만정에너지 삼보주유소</td>\n",
       "      <td>서울 강남구 봉은사로 433 (삼성동)</td>\n",
       "      <td>2598</td>\n",
       "      <td>N</td>\n",
       "      <td>GS칼텍스</td>\n",
       "      <td>강남구</td>\n",
       "    </tr>\n",
       "  </tbody>\n",
       "</table>\n",
       "</div>"
      ],
      "text/plain": [
       "                      상호                     주소    가격 셀프        상표    구\n",
       "434              갤러리아주유소        서울 강남구 압구정로 426  2330  N     SK에너지  강남구\n",
       "435        ㈜새서울석유 새서울주유소        서울 강남구 압구정로 154  2348  N  HD현대오일뱅크  강남구\n",
       "436              SK논현주유소   서울 강남구 논현로 747 (논현동)  2390  N     SK에너지  강남구\n",
       "437  (주)제이제이네트웍스 제이제이주유소         서울 강남구 언주로 716  2560  N  HD현대오일뱅크  강남구\n",
       "438       (주)만정에너지 삼보주유소  서울 강남구 봉은사로 433 (삼성동)  2598  N     GS칼텍스  강남구"
      ]
     },
     "execution_count": 23,
     "metadata": {},
     "output_type": "execute_result"
    }
   ],
   "source": [
    "df.set_index('상호', inplace=True)\n",
    "df.reset_index(inplace=True)\n",
    "df.tail()"
   ]
  },
  {
   "cell_type": "code",
   "execution_count": 20,
   "metadata": {},
   "outputs": [
    {
     "data": {
      "text/html": [
       "<div>\n",
       "<style scoped>\n",
       "    .dataframe tbody tr th:only-of-type {\n",
       "        vertical-align: middle;\n",
       "    }\n",
       "\n",
       "    .dataframe tbody tr th {\n",
       "        vertical-align: top;\n",
       "    }\n",
       "\n",
       "    .dataframe thead th {\n",
       "        text-align: right;\n",
       "    }\n",
       "</style>\n",
       "<table border=\"1\" class=\"dataframe\">\n",
       "  <thead>\n",
       "    <tr style=\"text-align: right;\">\n",
       "      <th></th>\n",
       "      <th>상호</th>\n",
       "      <th>주소</th>\n",
       "      <th>가격</th>\n",
       "      <th>셀프</th>\n",
       "      <th>상표</th>\n",
       "      <th>구</th>\n",
       "    </tr>\n",
       "  </thead>\n",
       "  <tbody>\n",
       "    <tr>\n",
       "      <th>0</th>\n",
       "      <td>재건에너지 재정제2주유소 고속셀프지점</td>\n",
       "      <td>서울특별시 강동구  천호대로 1246 (둔촌제2동)</td>\n",
       "      <td>1779</td>\n",
       "      <td>Y</td>\n",
       "      <td>HD현대오일뱅크</td>\n",
       "      <td>강동구</td>\n",
       "    </tr>\n",
       "    <tr>\n",
       "      <th>1</th>\n",
       "      <td>구천면주유소</td>\n",
       "      <td>서울 강동구 구천면로 357 (암사동)</td>\n",
       "      <td>1824</td>\n",
       "      <td>N</td>\n",
       "      <td>HD현대오일뱅크</td>\n",
       "      <td>강동구</td>\n",
       "    </tr>\n",
       "    <tr>\n",
       "      <th>2</th>\n",
       "      <td>(주)삼표에너지 고덕주유소</td>\n",
       "      <td>서울 강동구 고덕로 39 (암사동)</td>\n",
       "      <td>1835</td>\n",
       "      <td>Y</td>\n",
       "      <td>GS칼텍스</td>\n",
       "      <td>강동구</td>\n",
       "    </tr>\n",
       "    <tr>\n",
       "      <th>3</th>\n",
       "      <td>(주)소모 신월주유소</td>\n",
       "      <td>서울 강동구 양재대로 1323 (성내동)</td>\n",
       "      <td>1836</td>\n",
       "      <td>Y</td>\n",
       "      <td>GS칼텍스</td>\n",
       "      <td>강동구</td>\n",
       "    </tr>\n",
       "    <tr>\n",
       "      <th>4</th>\n",
       "      <td>대성석유(주)길동주유소</td>\n",
       "      <td>서울 강동구 천호대로 1168</td>\n",
       "      <td>1846</td>\n",
       "      <td>N</td>\n",
       "      <td>GS칼텍스</td>\n",
       "      <td>강동구</td>\n",
       "    </tr>\n",
       "  </tbody>\n",
       "</table>\n",
       "</div>"
      ],
      "text/plain": [
       "                     상호                            주소    가격 셀프        상표    구\n",
       "0  재건에너지 재정제2주유소 고속셀프지점  서울특별시 강동구  천호대로 1246 (둔촌제2동)  1779  Y  HD현대오일뱅크  강동구\n",
       "1                구천면주유소         서울 강동구 구천면로 357 (암사동)  1824  N  HD현대오일뱅크  강동구\n",
       "2        (주)삼표에너지 고덕주유소           서울 강동구 고덕로 39 (암사동)  1835  Y     GS칼텍스  강동구\n",
       "3           (주)소모 신월주유소        서울 강동구 양재대로 1323 (성내동)  1836  Y     GS칼텍스  강동구\n",
       "4          대성석유(주)길동주유소              서울 강동구 천호대로 1168  1846  N     GS칼텍스  강동구"
      ]
     },
     "execution_count": 20,
     "metadata": {},
     "output_type": "execute_result"
    }
   ],
   "source": [
    "df['구'] = df.주소.apply(lambda x: x.split()[1])\n",
    "df.head()"
   ]
  },
  {
   "cell_type": "code",
   "execution_count": 21,
   "metadata": {},
   "outputs": [
    {
     "data": {
      "text/plain": [
       "array(['강동구', '동대문구', '동작구', '마포구', '서대문구', '서초구', '성동구', '성북구', '송파구',\n",
       "       '양천구', '영등포구', '강북구', '용산구', '은평구', '종로구', '중구', '중랑구', '강서구',\n",
       "       '관악구', '광진구', '구로구', '금천구', '노원구', '도봉구', '강남구'], dtype=object)"
      ]
     },
     "execution_count": 21,
     "metadata": {},
     "output_type": "execute_result"
    }
   ],
   "source": [
    "df.구.unique()"
   ]
  },
  {
   "cell_type": "code",
   "execution_count": 25,
   "metadata": {},
   "outputs": [
    {
     "data": {
      "text/plain": [
       "numpy.int64"
      ]
     },
     "execution_count": 25,
     "metadata": {},
     "output_type": "execute_result"
    }
   ],
   "source": [
    "# 가격의 타입 확인\n",
    "type(df.가격[0])"
   ]
  },
  {
   "cell_type": "code",
   "execution_count": 26,
   "metadata": {},
   "outputs": [
    {
     "data": {
      "text/html": [
       "<div>\n",
       "<style scoped>\n",
       "    .dataframe tbody tr th:only-of-type {\n",
       "        vertical-align: middle;\n",
       "    }\n",
       "\n",
       "    .dataframe tbody tr th {\n",
       "        vertical-align: top;\n",
       "    }\n",
       "\n",
       "    .dataframe thead th {\n",
       "        text-align: right;\n",
       "    }\n",
       "</style>\n",
       "<table border=\"1\" class=\"dataframe\">\n",
       "  <thead>\n",
       "    <tr style=\"text-align: right;\">\n",
       "      <th></th>\n",
       "      <th>상호</th>\n",
       "      <th>주소</th>\n",
       "      <th>가격</th>\n",
       "      <th>셀프</th>\n",
       "      <th>상표</th>\n",
       "      <th>구</th>\n",
       "    </tr>\n",
       "  </thead>\n",
       "  <tbody>\n",
       "    <tr>\n",
       "      <th>434</th>\n",
       "      <td>갤러리아주유소</td>\n",
       "      <td>서울 강남구 압구정로 426</td>\n",
       "      <td>2330</td>\n",
       "      <td>N</td>\n",
       "      <td>SK에너지</td>\n",
       "      <td>강남구</td>\n",
       "    </tr>\n",
       "    <tr>\n",
       "      <th>435</th>\n",
       "      <td>㈜새서울석유 새서울주유소</td>\n",
       "      <td>서울 강남구 압구정로 154</td>\n",
       "      <td>2348</td>\n",
       "      <td>N</td>\n",
       "      <td>HD현대오일뱅크</td>\n",
       "      <td>강남구</td>\n",
       "    </tr>\n",
       "    <tr>\n",
       "      <th>436</th>\n",
       "      <td>SK논현주유소</td>\n",
       "      <td>서울 강남구 논현로 747 (논현동)</td>\n",
       "      <td>2390</td>\n",
       "      <td>N</td>\n",
       "      <td>SK에너지</td>\n",
       "      <td>강남구</td>\n",
       "    </tr>\n",
       "    <tr>\n",
       "      <th>437</th>\n",
       "      <td>(주)제이제이네트웍스 제이제이주유소</td>\n",
       "      <td>서울 강남구 언주로 716</td>\n",
       "      <td>2560</td>\n",
       "      <td>N</td>\n",
       "      <td>HD현대오일뱅크</td>\n",
       "      <td>강남구</td>\n",
       "    </tr>\n",
       "    <tr>\n",
       "      <th>438</th>\n",
       "      <td>(주)만정에너지 삼보주유소</td>\n",
       "      <td>서울 강남구 봉은사로 433 (삼성동)</td>\n",
       "      <td>2598</td>\n",
       "      <td>N</td>\n",
       "      <td>GS칼텍스</td>\n",
       "      <td>강남구</td>\n",
       "    </tr>\n",
       "  </tbody>\n",
       "</table>\n",
       "</div>"
      ],
      "text/plain": [
       "                      상호                     주소    가격 셀프        상표    구\n",
       "434              갤러리아주유소        서울 강남구 압구정로 426  2330  N     SK에너지  강남구\n",
       "435        ㈜새서울석유 새서울주유소        서울 강남구 압구정로 154  2348  N  HD현대오일뱅크  강남구\n",
       "436              SK논현주유소   서울 강남구 논현로 747 (논현동)  2390  N     SK에너지  강남구\n",
       "437  (주)제이제이네트웍스 제이제이주유소         서울 강남구 언주로 716  2560  N  HD현대오일뱅크  강남구\n",
       "438       (주)만정에너지 삼보주유소  서울 강남구 봉은사로 433 (삼성동)  2598  N     GS칼텍스  강남구"
      ]
     },
     "execution_count": 26,
     "metadata": {},
     "output_type": "execute_result"
    }
   ],
   "source": [
    "df.to_csv('data/opinet_20230919.csv', index=False)\n",
    "pd.read_csv('data/opinet_20230919.csv').tail()"
   ]
  },
  {
   "cell_type": "code",
   "execution_count": null,
   "metadata": {},
   "outputs": [],
   "source": []
  }
 ],
 "metadata": {
  "kernelspec": {
   "display_name": "base",
   "language": "python",
   "name": "python3"
  },
  "language_info": {
   "codemirror_mode": {
    "name": "ipython",
    "version": 3
   },
   "file_extension": ".py",
   "mimetype": "text/x-python",
   "name": "python",
   "nbconvert_exporter": "python",
   "pygments_lexer": "ipython3",
   "version": "3.11.4"
  },
  "orig_nbformat": 4
 },
 "nbformat": 4,
 "nbformat_minor": 2
}
