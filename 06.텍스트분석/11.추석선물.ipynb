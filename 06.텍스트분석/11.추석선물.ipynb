{
 "cells": [
  {
   "cell_type": "markdown",
   "metadata": {},
   "source": [
    "## 네이버 지식IN - 추석 선물"
   ]
  },
  {
   "cell_type": "code",
   "execution_count": 2,
   "metadata": {},
   "outputs": [],
   "source": [
    "import time\n",
    "from selenium import webdriver\n",
    "from selenium.webdriver.common.by import By\n",
    "from bs4 import BeautifulSoup\n",
    "from urllib.parse import quote\n",
    "from tqdm import tqdm"
   ]
  },
  {
   "cell_type": "markdown",
   "metadata": {},
   "source": [
    "- 지식인 추석 선물 검색결과 화면"
   ]
  },
  {
   "cell_type": "code",
   "execution_count": 3,
   "metadata": {},
   "outputs": [],
   "source": [
    "url = f'https://kin.naver.com/search/list.naver?query={quote(\"추석 선물\")}&page=1'\n",
    "driver = webdriver.Chrome()\n",
    "driver.get(url)\n",
    "soup = BeautifulSoup(driver.page_source, 'html.parser')"
   ]
  },
  {
   "cell_type": "code",
   "execution_count": 4,
   "metadata": {},
   "outputs": [
    {
     "data": {
      "text/plain": [
       "10"
      ]
     },
     "execution_count": 4,
     "metadata": {},
     "output_type": "execute_result"
    }
   ],
   "source": [
    "lis = soup.select('.basic1 > li')\n",
    "len(lis)"
   ]
  },
  {
   "cell_type": "markdown",
   "metadata": {},
   "source": [
    "- 답변 갯수가 5개보다 큰 항목을 선택"
   ]
  },
  {
   "cell_type": "code",
   "execution_count": 6,
   "metadata": {},
   "outputs": [
    {
     "data": {
      "text/plain": [
       "'https://kin.naver.com/qna/detail.naver?d1id=6&dirId=6130103&docId=454639453&qb=7LaU7ISdIOyEoOusvA==&enc=utf8&section=kin&rank=8&search_sort=0&spq=0'"
      ]
     },
     "execution_count": 6,
     "metadata": {},
     "output_type": "execute_result"
    }
   ],
   "source": [
    "li = lis[7]\n",
    "sub_url = li.select_one('a._searchListTitleAnchor')['href']\n",
    "sub_url"
   ]
  },
  {
   "cell_type": "code",
   "execution_count": 7,
   "metadata": {},
   "outputs": [],
   "source": [
    "driver.get(sub_url)\n",
    "time.sleep(2)"
   ]
  },
  {
   "cell_type": "code",
   "execution_count": 9,
   "metadata": {},
   "outputs": [
    {
     "data": {
      "text/plain": [
       "('8', 1)"
      ]
     },
     "execution_count": 9,
     "metadata": {},
     "output_type": "execute_result"
    }
   ],
   "source": [
    "# 더 보기 클릭 횟수 구하기\n",
    "answer_num = driver.find_element(By.CSS_SELECTOR, '._answerCount.num').text\n",
    "click_count = (int(answer_num) - 1) // 5\n",
    "answer_num, click_count"
   ]
  },
  {
   "cell_type": "code",
   "execution_count": 10,
   "metadata": {},
   "outputs": [],
   "source": [
    "# 더 보기 횟수 만큼 클릭하기\n",
    "for _ in range(click_count):\n",
    "    driver.find_element(By.ID, 'nextPageButton').click()\n",
    "    time.sleep(2)"
   ]
  },
  {
   "cell_type": "code",
   "execution_count": 11,
   "metadata": {},
   "outputs": [
    {
     "data": {
      "text/plain": [
       "8"
      ]
     },
     "execution_count": 11,
     "metadata": {},
     "output_type": "execute_result"
    }
   ],
   "source": [
    "# 펼쳐진 화면을 BeautifulSoup으로 파싱\n",
    "sub_soup = BeautifulSoup(driver.page_source, 'html.parser')\n",
    "divs = sub_soup.select('.answer-content__list._answerList > div')\n",
    "len(divs)"
   ]
  },
  {
   "cell_type": "code",
   "execution_count": 12,
   "metadata": {},
   "outputs": [
    {
     "data": {
      "text/plain": [
       "45"
      ]
     },
     "execution_count": 12,
     "metadata": {},
     "output_type": "execute_result"
    }
   ],
   "source": [
    "# 답변 목록에서 개별 답변을 선택하고 글을 추출하기\n",
    "div = divs[0]\n",
    "ps = div.select('.se-text-paragraph.se-text-paragraph-align-')\n",
    "len(ps)"
   ]
  },
  {
   "cell_type": "code",
   "execution_count": 18,
   "metadata": {},
   "outputs": [
    {
     "name": "stdout",
     "output_type": "stream",
     "text": [
      "많은 인원수 준비 하실려면 부담이 크시겠어요\n",
      "연령대도 다양하시고\n",
      "남녀노소 가리지 않고 해드릴수 있는 선물을 추천 해드릴려고 합니다\n",
      "곧 풍성한 추석이 몇일 남지 않았어요\n",
      "부모님추석선물 어떤거 할지 고민이실까요 ?\n",
      "시부모님 친정부모님 우리집 가장인 신랑 그리고아내들 까지 모두에게 꼭필요한\n",
      "30~40대부터 70~80대 어르신들까지 건강 지킴이 필수 요건 _ <면역기능 강화>\n",
      "면역력이 튼튼해야지만 어떠한 병균에도 이겨낼수 있습니다\n",
      "광동 맑은 365 면역보감은\n",
      "세계 최고 품질 \"호주산 프로폴리스\"\n",
      "면역기능의 필수영양소 \"아연\"\n",
      "빠른 흡수를 위해  [액상형]으로\n",
      "식약처 인정한 엄선된 재료들만 골라 한팩안에 담았습니다\n",
      "※이런분들에게추천드립니다 ※\n",
      "만성피로로 힘드신분, 급격하게 체력이 저하되시는분\n",
      "무기력함을 느끼시는분 기력증,원기충전이 필요하신분\n",
      "허약체질, 잔병치레로 관리 필요하신분, 꾸준한 건강관리를 원하시는분\n",
      "지금 한가위 맞이하여 특별 이벤트를 진행하고 있습니다\n",
      "무료상담 받아보세요\n",
      "▼▼▼▼▼▼▼▼▼▼▼\n",
      "http://vadmymll.adpt.kr\n",
      "답변채택부탁드립니다 ^^\n",
      "#부모님추석선물 #부모님건강선물 #면역기능강화 #면역보감 #광동맑은365면역보감 #프로폴리스\n",
      "\n"
     ]
    }
   ],
   "source": [
    "answer = ''\n",
    "for p in ps:\n",
    "    text = p.get_text().strip()\n",
    "    if text == '\\u200b' or text == '':\n",
    "        continue\n",
    "    answer += text + '\\n'\n",
    "print(answer)"
   ]
  },
  {
   "cell_type": "code",
   "execution_count": 19,
   "metadata": {},
   "outputs": [],
   "source": [
    "# 답변 목록에 있는 모든 답변을 선택해서 글을 추출하기\n",
    "answer_list = []\n",
    "for div in divs:\n",
    "    ps = div.select('.se-text-paragraph.se-text-paragraph-align-')\n",
    "    answer = ''\n",
    "    for p in ps:\n",
    "        text = p.get_text().strip()\n",
    "        if text == '\\u200b' or text == '':\n",
    "            continue\n",
    "        answer += text + '\\n'\n",
    "    answer_list.append(answer)"
   ]
  },
  {
   "cell_type": "code",
   "execution_count": 20,
   "metadata": {},
   "outputs": [
    {
     "data": {
      "text/plain": [
       "8"
      ]
     },
     "execution_count": 20,
     "metadata": {},
     "output_type": "execute_result"
    }
   ],
   "source": [
    "len(answer_list)"
   ]
  },
  {
   "cell_type": "code",
   "execution_count": 21,
   "metadata": {},
   "outputs": [],
   "source": [
    "driver.back()"
   ]
  },
  {
   "cell_type": "markdown",
   "metadata": {},
   "source": [
    "- 한 화면에 있는 10개의 글에서 모든 답변을 추출하기"
   ]
  },
  {
   "cell_type": "code",
   "execution_count": 22,
   "metadata": {},
   "outputs": [
    {
     "name": "stdout",
     "output_type": "stream",
     "text": [
      "0 0 0 0 0 0 0 1 1 3 "
     ]
    }
   ],
   "source": [
    "answer_list = []\n",
    "for li in lis:\n",
    "    sub_url = li.select_one('a._searchListTitleAnchor')['href']\n",
    "    driver.get(sub_url)\n",
    "    time.sleep(2)\n",
    "\n",
    "    answer_num = driver.find_element(By.CSS_SELECTOR, '._answerCount.num').text\n",
    "    click_count = (int(answer_num) - 1) // 5 \n",
    "    print(click_count, end=' ')\n",
    "    for _ in range(click_count):\n",
    "        driver.find_element(By.ID, 'nextPageButton').click()\n",
    "        time.sleep(2)\n",
    "\n",
    "    sub_soup = BeautifulSoup(driver.page_source, 'html.parser')\n",
    "    divs = sub_soup.select('.answer-content__list._answerList > div')\n",
    "    for div in divs:\n",
    "        ps = div.select('.se-text-paragraph.se-text-paragraph-align-')\n",
    "        answer = ''\n",
    "        for p in ps:\n",
    "            text = p.get_text().strip()\n",
    "            if text == '\\u200b' or text == '':\n",
    "                continue\n",
    "            answer += text + '\\n'\n",
    "        answer_list.append(answer)\n",
    "\n",
    "    driver.back()\n",
    "    time.sleep(2)"
   ]
  },
  {
   "cell_type": "code",
   "execution_count": 23,
   "metadata": {},
   "outputs": [
    {
     "data": {
      "text/plain": [
       "47"
      ]
     },
     "execution_count": 23,
     "metadata": {},
     "output_type": "execute_result"
    }
   ],
   "source": [
    "len(answer_list)"
   ]
  },
  {
   "cell_type": "markdown",
   "metadata": {},
   "source": [
    "- 1 ~ 10 페이지에 대한 답변 가져오기"
   ]
  },
  {
   "cell_type": "code",
   "execution_count": 29,
   "metadata": {},
   "outputs": [
    {
     "name": "stdout",
     "output_type": "stream",
     "text": [
      "0 0 0 0 0 0 0 1 1 3 \n",
      "1 5 0 1 1 1 3 3 0 0 \n",
      "1 0 2 4 2 1 0 5 4 0 \n",
      "2 0 2 6 2 2 2 1 3 4 \n",
      "3 2 1 0 1 1 0 0 2 1 \n",
      "1 2 3 0 1 3 2 3 2 1 \n",
      "1 4 2 1 1 3 1 1 3 2 \n",
      "1 1 0 0 0 1 1 0 0 5 \n",
      "3 0 2 0 1 2 0 2 8 0 \n",
      "0 3 0 0 1 2 3 0 1 0 \n"
     ]
    }
   ],
   "source": [
    "answer_list = []\n",
    "driver = webdriver.Chrome()\n",
    "for page in range(1, 11):\n",
    "    url = f'https://kin.naver.com/search/list.naver?query={quote(\"추석 선물\")}&page={page}'\n",
    "    driver.get(url)\n",
    "    time.sleep(2)\n",
    "    soup = BeautifulSoup(driver.page_source, 'html.parser')\n",
    "    lis = soup.select('.basic1 > li')\n",
    "\n",
    "    for li in lis:\n",
    "        sub_url = li.select_one('a._searchListTitleAnchor')['href']\n",
    "        driver.get(sub_url)\n",
    "        time.sleep(2)\n",
    "\n",
    "        answer_num = driver.find_element(By.CSS_SELECTOR, '._answerCount.num').text\n",
    "        click_count = (int(answer_num) - 1) // 5 \n",
    "        print(click_count, end=' ')\n",
    "        for _ in range(click_count):\n",
    "            driver.find_element(By.ID, 'nextPageButton').click()\n",
    "            time.sleep(2)\n",
    "\n",
    "        sub_soup = BeautifulSoup(driver.page_source, 'html.parser')\n",
    "        divs = sub_soup.select('.answer-content__list._answerList > div')\n",
    "        for div in divs:\n",
    "            ps = div.select('.se-text-paragraph.se-text-paragraph-align-')\n",
    "            answer = ''\n",
    "            for p in ps:\n",
    "                text = p.get_text().strip()\n",
    "                if text == '\\u200b' or text == '':\n",
    "                    continue\n",
    "                answer += text + '\\n'\n",
    "            answer_list.append(answer)\n",
    "\n",
    "        driver.back()\n",
    "        time.sleep(2)\n",
    "    print()\n",
    "\n",
    "driver.close()"
   ]
  },
  {
   "cell_type": "code",
   "execution_count": 30,
   "metadata": {},
   "outputs": [
    {
     "data": {
      "text/plain": [
       "994"
      ]
     },
     "execution_count": 30,
     "metadata": {},
     "output_type": "execute_result"
    }
   ],
   "source": [
    "len(answer_list)"
   ]
  },
  {
   "cell_type": "markdown",
   "metadata": {},
   "source": [
    "- 파일에 쓰기"
   ]
  },
  {
   "cell_type": "code",
   "execution_count": 31,
   "metadata": {},
   "outputs": [],
   "source": [
    "with open('data/추석선물.txt', 'w', encoding='utf-8') as file:\n",
    "    for answer in answer_list:\n",
    "        file.write(answer + '\\n')"
   ]
  },
  {
   "cell_type": "code",
   "execution_count": null,
   "metadata": {},
   "outputs": [],
   "source": []
  }
 ],
 "metadata": {
  "kernelspec": {
   "display_name": "base",
   "language": "python",
   "name": "python3"
  },
  "language_info": {
   "codemirror_mode": {
    "name": "ipython",
    "version": 3
   },
   "file_extension": ".py",
   "mimetype": "text/x-python",
   "name": "python",
   "nbconvert_exporter": "python",
   "pygments_lexer": "ipython3",
   "version": "3.11.4"
  },
  "orig_nbformat": 4
 },
 "nbformat": 4,
 "nbformat_minor": 2
}
