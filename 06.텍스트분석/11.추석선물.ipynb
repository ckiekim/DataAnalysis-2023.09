{
 "cells": [
  {
   "cell_type": "markdown",
   "metadata": {},
   "source": [
    "## 네이버 지식IN - 추석 선물"
   ]
  },
  {
   "cell_type": "code",
   "execution_count": 2,
   "metadata": {},
   "outputs": [],
   "source": [
    "import time\n",
    "from selenium import webdriver\n",
    "from selenium.webdriver.common.by import By\n",
    "from bs4 import BeautifulSoup\n",
    "from urllib.parse import quote\n",
    "from tqdm import tqdm"
   ]
  },
  {
   "cell_type": "markdown",
   "metadata": {},
   "source": [
    "- 지식인 추석 선물 검색결과 화면"
   ]
  },
  {
   "cell_type": "code",
   "execution_count": 3,
   "metadata": {},
   "outputs": [],
   "source": [
    "url = f'https://kin.naver.com/search/list.naver?query={quote(\"추석 선물\")}&page=1'\n",
    "driver = webdriver.Chrome()\n",
    "driver.get(url)\n",
    "soup = BeautifulSoup(driver.page_source, 'html.parser')"
   ]
  },
  {
   "cell_type": "code",
   "execution_count": 4,
   "metadata": {},
   "outputs": [
    {
     "data": {
      "text/plain": [
       "10"
      ]
     },
     "execution_count": 4,
     "metadata": {},
     "output_type": "execute_result"
    }
   ],
   "source": [
    "lis = soup.select('.basic1 > li')\n",
    "len(lis)"
   ]
  },
  {
   "cell_type": "markdown",
   "metadata": {},
   "source": [
    "- 답변 갯수가 5개보다 큰 항목을 선택"
   ]
  },
  {
   "cell_type": "code",
   "execution_count": 6,
   "metadata": {},
   "outputs": [
    {
     "data": {
      "text/plain": [
       "'https://kin.naver.com/qna/detail.naver?d1id=6&dirId=6130103&docId=454639453&qb=7LaU7ISdIOyEoOusvA==&enc=utf8&section=kin&rank=8&search_sort=0&spq=0'"
      ]
     },
     "execution_count": 6,
     "metadata": {},
     "output_type": "execute_result"
    }
   ],
   "source": [
    "li = lis[7]\n",
    "sub_url = li.select_one('a._searchListTitleAnchor')['href']\n",
    "sub_url"
   ]
  },
  {
   "cell_type": "code",
   "execution_count": 7,
   "metadata": {},
   "outputs": [],
   "source": [
    "driver.get(sub_url)\n",
    "time.sleep(2)"
   ]
  },
  {
   "cell_type": "code",
   "execution_count": 9,
   "metadata": {},
   "outputs": [
    {
     "data": {
      "text/plain": [
       "('8', 1)"
      ]
     },
     "execution_count": 9,
     "metadata": {},
     "output_type": "execute_result"
    }
   ],
   "source": [
    "# 더 보기 클릭 횟수 구하기\n",
    "answer_num = driver.find_element(By.CSS_SELECTOR, '._answerCount.num').text\n",
    "click_count = (int(answer_num) - 1) // 5\n",
    "answer_num, click_count"
   ]
  },
  {
   "cell_type": "code",
   "execution_count": 10,
   "metadata": {},
   "outputs": [],
   "source": [
    "# 더 보기 횟수 만큼 클릭하기\n",
    "for _ in range(click_count):\n",
    "    driver.find_element(By.ID, 'nextPageButton').click()\n",
    "    time.sleep(2)"
   ]
  },
  {
   "cell_type": "code",
   "execution_count": 11,
   "metadata": {},
   "outputs": [
    {
     "data": {
      "text/plain": [
       "8"
      ]
     },
     "execution_count": 11,
     "metadata": {},
     "output_type": "execute_result"
    }
   ],
   "source": [
    "# 펼쳐진 화면을 BeautifulSoup으로 파싱\n",
    "sub_soup = BeautifulSoup(driver.page_source, 'html.parser')\n",
    "divs = sub_soup.select('.answer-content__list._answerList > div')\n",
    "len(divs)"
   ]
  },
  {
   "cell_type": "code",
   "execution_count": 12,
   "metadata": {},
   "outputs": [
    {
     "data": {
      "text/plain": [
       "45"
      ]
     },
     "execution_count": 12,
     "metadata": {},
     "output_type": "execute_result"
    }
   ],
   "source": [
    "# 답변 목록에서 개별 답변을 선택하고 글을 추출하기\n",
    "div = divs[0]\n",
    "ps = div.select('.se-text-paragraph.se-text-paragraph-align-')\n",
    "len(ps)"
   ]
  },
  {
   "cell_type": "code",
   "execution_count": 18,
   "metadata": {},
   "outputs": [
    {
     "name": "stdout",
     "output_type": "stream",
     "text": [
      "많은 인원수 준비 하실려면 부담이 크시겠어요\n",
      "연령대도 다양하시고\n",
      "남녀노소 가리지 않고 해드릴수 있는 선물을 추천 해드릴려고 합니다\n",
      "곧 풍성한 추석이 몇일 남지 않았어요\n",
      "부모님추석선물 어떤거 할지 고민이실까요 ?\n",
      "시부모님 친정부모님 우리집 가장인 신랑 그리고아내들 까지 모두에게 꼭필요한\n",
      "30~40대부터 70~80대 어르신들까지 건강 지킴이 필수 요건 _ <면역기능 강화>\n",
      "면역력이 튼튼해야지만 어떠한 병균에도 이겨낼수 있습니다\n",
      "광동 맑은 365 면역보감은\n",
      "세계 최고 품질 \"호주산 프로폴리스\"\n",
      "면역기능의 필수영양소 \"아연\"\n",
      "빠른 흡수를 위해  [액상형]으로\n",
      "식약처 인정한 엄선된 재료들만 골라 한팩안에 담았습니다\n",
      "※이런분들에게추천드립니다 ※\n",
      "만성피로로 힘드신분, 급격하게 체력이 저하되시는분\n",
      "무기력함을 느끼시는분 기력증,원기충전이 필요하신분\n",
      "허약체질, 잔병치레로 관리 필요하신분, 꾸준한 건강관리를 원하시는분\n",
      "지금 한가위 맞이하여 특별 이벤트를 진행하고 있습니다\n",
      "무료상담 받아보세요\n",
      "▼▼▼▼▼▼▼▼▼▼▼\n",
      "http://vadmymll.adpt.kr\n",
      "답변채택부탁드립니다 ^^\n",
      "#부모님추석선물 #부모님건강선물 #면역기능강화 #면역보감 #광동맑은365면역보감 #프로폴리스\n",
      "\n"
     ]
    }
   ],
   "source": [
    "answer = ''\n",
    "for p in ps:\n",
    "    text = p.get_text().strip()\n",
    "    if text == '\\u200b' or text == '':\n",
    "        continue\n",
    "    answer += text + '\\n'\n",
    "print(answer)"
   ]
  },
  {
   "cell_type": "code",
   "execution_count": 19,
   "metadata": {},
   "outputs": [],
   "source": [
    "# 답변 목록에 있는 모든 답변을 선택해서 글을 추출하기\n",
    "answer_list = []\n",
    "for div in divs:\n",
    "    ps = div.select('.se-text-paragraph.se-text-paragraph-align-')\n",
    "    answer = ''\n",
    "    for p in ps:\n",
    "        text = p.get_text().strip()\n",
    "        if text == '\\u200b' or text == '':\n",
    "            continue\n",
    "        answer += text + '\\n'\n",
    "    answer_list.append(answer)"
   ]
  },
  {
   "cell_type": "code",
   "execution_count": 20,
   "metadata": {},
   "outputs": [
    {
     "data": {
      "text/plain": [
       "8"
      ]
     },
     "execution_count": 20,
     "metadata": {},
     "output_type": "execute_result"
    }
   ],
   "source": [
    "len(answer_list)"
   ]
  },
  {
   "cell_type": "code",
   "execution_count": 21,
   "metadata": {},
   "outputs": [],
   "source": [
    "driver.back()"
   ]
  },
  {
   "cell_type": "markdown",
   "metadata": {},
   "source": [
    "- 한 화면에 있는 10개의 글에서 모든 답변을 추출하기"
   ]
  },
  {
   "cell_type": "code",
   "execution_count": 22,
   "metadata": {},
   "outputs": [
    {
     "name": "stdout",
     "output_type": "stream",
     "text": [
      "0 0 0 0 0 0 0 1 1 3 "
     ]
    }
   ],
   "source": [
    "answer_list = []\n",
    "for li in lis:\n",
    "    sub_url = li.select_one('a._searchListTitleAnchor')['href']\n",
    "    driver.get(sub_url)\n",
    "    time.sleep(2)\n",
    "\n",
    "    answer_num = driver.find_element(By.CSS_SELECTOR, '._answerCount.num').text\n",
    "    click_count = (int(answer_num) - 1) // 5 \n",
    "    print(click_count, end=' ')\n",
    "    for _ in range(click_count):\n",
    "        driver.find_element(By.ID, 'nextPageButton').click()\n",
    "        time.sleep(2)\n",
    "\n",
    "    sub_soup = BeautifulSoup(driver.page_source, 'html.parser')\n",
    "    divs = sub_soup.select('.answer-content__list._answerList > div')\n",
    "    for div in divs:\n",
    "        ps = div.select('.se-text-paragraph.se-text-paragraph-align-')\n",
    "        answer = ''\n",
    "        for p in ps:\n",
    "            text = p.get_text().strip()\n",
    "            if text == '\\u200b' or text == '':\n",
    "                continue\n",
    "            answer += text + '\\n'\n",
    "        answer_list.append(answer)\n",
    "\n",
    "    driver.back()\n",
    "    time.sleep(2)"
   ]
  },
  {
   "cell_type": "code",
   "execution_count": 23,
   "metadata": {},
   "outputs": [
    {
     "data": {
      "text/plain": [
       "47"
      ]
     },
     "execution_count": 23,
     "metadata": {},
     "output_type": "execute_result"
    }
   ],
   "source": [
    "len(answer_list)"
   ]
  },
  {
   "cell_type": "markdown",
   "metadata": {},
   "source": [
    "- 1 ~ 10 페이지에 대한 답변 가져오기"
   ]
  },
  {
   "cell_type": "code",
   "execution_count": 25,
   "metadata": {},
   "outputs": [
    {
     "name": "stderr",
     "output_type": "stream",
     "text": [
      "  0%|          | 0/10 [00:00<?, ?it/s]"
     ]
    },
    {
     "name": "stdout",
     "output_type": "stream",
     "text": [
      "0 0 0 0 0 0 0 1 1 3 "
     ]
    },
    {
     "name": "stderr",
     "output_type": "stream",
     "text": [
      " 10%|█         | 1/10 [01:05<09:47, 65.30s/it]"
     ]
    },
    {
     "name": "stdout",
     "output_type": "stream",
     "text": [
      "\n",
      "1 5 0 1 "
     ]
    },
    {
     "name": "stderr",
     "output_type": "stream",
     "text": [
      " 10%|█         | 1/10 [01:41<15:09, 101.03s/it]\n"
     ]
    },
    {
     "ename": "WebDriverException",
     "evalue": "Message: no such execution context\n  (Session info: chrome=117.0.5938.89)\nStacktrace:\n\tGetHandleVerifier [0x00007FF7137D78A2+54818]\n\t(No symbol) [0x00007FF713746AD2]\n\t(No symbol) [0x00007FF7135FD8ED]\n\t(No symbol) [0x00007FF7135EC5B9]\n\t(No symbol) [0x00007FF7135EA961]\n\t(No symbol) [0x00007FF7135EB2EE]\n\t(No symbol) [0x00007FF7135F7D4D]\n\t(No symbol) [0x00007FF7136084D1]\n\t(No symbol) [0x00007FF71360C80A]\n\t(No symbol) [0x00007FF7135EB937]\n\t(No symbol) [0x00007FF713608163]\n\t(No symbol) [0x00007FF713677609]\n\t(No symbol) [0x00007FF71365E883]\n\t(No symbol) [0x00007FF713633691]\n\t(No symbol) [0x00007FF7136348D4]\n\tGetHandleVerifier [0x00007FF713B3B9A2+3610402]\n\tGetHandleVerifier [0x00007FF713B91870+3962352]\n\tGetHandleVerifier [0x00007FF713B89D5F+3930847]\n\tGetHandleVerifier [0x00007FF713873656+693206]\n\t(No symbol) [0x00007FF713751638]\n\t(No symbol) [0x00007FF71374D944]\n\t(No symbol) [0x00007FF71374DA72]\n\t(No symbol) [0x00007FF71373E123]\n\tBaseThreadInitThunk [0x00007FFBE04E7344+20]\n\tRtlUserThreadStart [0x00007FFBE10A26B1+33]\n",
     "output_type": "error",
     "traceback": [
      "\u001b[1;31m---------------------------------------------------------------------------\u001b[0m",
      "\u001b[1;31mWebDriverException\u001b[0m                        Traceback (most recent call last)",
      "\u001b[1;32md:\\WorkSpace\\02.DataAnalysis\\06.텍스트분석\\11.추석선물.ipynb Cell 21\u001b[0m line \u001b[0;36m3\n\u001b[0;32m     <a href='vscode-notebook-cell:/d%3A/WorkSpace/02.DataAnalysis/06.%ED%85%8D%EC%8A%A4%ED%8A%B8%EB%B6%84%EC%84%9D/11.%EC%B6%94%EC%84%9D%EC%84%A0%EB%AC%BC.ipynb#X25sZmlsZQ%3D%3D?line=30'>31</a>\u001b[0m             answer \u001b[39m+\u001b[39m\u001b[39m=\u001b[39m text \u001b[39m+\u001b[39m \u001b[39m'\u001b[39m\u001b[39m\\n\u001b[39;00m\u001b[39m'\u001b[39m\n\u001b[0;32m     <a href='vscode-notebook-cell:/d%3A/WorkSpace/02.DataAnalysis/06.%ED%85%8D%EC%8A%A4%ED%8A%B8%EB%B6%84%EC%84%9D/11.%EC%B6%94%EC%84%9D%EC%84%A0%EB%AC%BC.ipynb#X25sZmlsZQ%3D%3D?line=31'>32</a>\u001b[0m         answer_list\u001b[39m.\u001b[39mappend(answer)\n\u001b[1;32m---> <a href='vscode-notebook-cell:/d%3A/WorkSpace/02.DataAnalysis/06.%ED%85%8D%EC%8A%A4%ED%8A%B8%EB%B6%84%EC%84%9D/11.%EC%B6%94%EC%84%9D%EC%84%A0%EB%AC%BC.ipynb#X25sZmlsZQ%3D%3D?line=33'>34</a>\u001b[0m     driver\u001b[39m.\u001b[39mback()\n\u001b[0;32m     <a href='vscode-notebook-cell:/d%3A/WorkSpace/02.DataAnalysis/06.%ED%85%8D%EC%8A%A4%ED%8A%B8%EB%B6%84%EC%84%9D/11.%EC%B6%94%EC%84%9D%EC%84%A0%EB%AC%BC.ipynb#X25sZmlsZQ%3D%3D?line=34'>35</a>\u001b[0m     time\u001b[39m.\u001b[39msleep(\u001b[39m2\u001b[39m)\n\u001b[0;32m     <a href='vscode-notebook-cell:/d%3A/WorkSpace/02.DataAnalysis/06.%ED%85%8D%EC%8A%A4%ED%8A%B8%EB%B6%84%EC%84%9D/11.%EC%B6%94%EC%84%9D%EC%84%A0%EB%AC%BC.ipynb#X25sZmlsZQ%3D%3D?line=35'>36</a>\u001b[0m \u001b[39mprint\u001b[39m()\n",
      "File \u001b[1;32mc:\\Users\\human\\anaconda3\\Lib\\site-packages\\selenium\\webdriver\\remote\\webdriver.py:547\u001b[0m, in \u001b[0;36mWebDriver.back\u001b[1;34m(self)\u001b[0m\n\u001b[0;32m    539\u001b[0m \u001b[39mdef\u001b[39;00m \u001b[39mback\u001b[39m(\u001b[39mself\u001b[39m) \u001b[39m-\u001b[39m\u001b[39m>\u001b[39m \u001b[39mNone\u001b[39;00m:\n\u001b[0;32m    540\u001b[0m \u001b[39m    \u001b[39m\u001b[39m\"\"\"Goes one step backward in the browser history.\u001b[39;00m\n\u001b[0;32m    541\u001b[0m \n\u001b[0;32m    542\u001b[0m \u001b[39m    :Usage:\u001b[39;00m\n\u001b[1;32m   (...)\u001b[0m\n\u001b[0;32m    545\u001b[0m \u001b[39m            driver.back()\u001b[39;00m\n\u001b[0;32m    546\u001b[0m \u001b[39m    \"\"\"\u001b[39;00m\n\u001b[1;32m--> 547\u001b[0m     \u001b[39mself\u001b[39m\u001b[39m.\u001b[39mexecute(Command\u001b[39m.\u001b[39mGO_BACK)\n",
      "File \u001b[1;32mc:\\Users\\human\\anaconda3\\Lib\\site-packages\\selenium\\webdriver\\remote\\webdriver.py:344\u001b[0m, in \u001b[0;36mWebDriver.execute\u001b[1;34m(self, driver_command, params)\u001b[0m\n\u001b[0;32m    342\u001b[0m response \u001b[39m=\u001b[39m \u001b[39mself\u001b[39m\u001b[39m.\u001b[39mcommand_executor\u001b[39m.\u001b[39mexecute(driver_command, params)\n\u001b[0;32m    343\u001b[0m \u001b[39mif\u001b[39;00m response:\n\u001b[1;32m--> 344\u001b[0m     \u001b[39mself\u001b[39m\u001b[39m.\u001b[39merror_handler\u001b[39m.\u001b[39mcheck_response(response)\n\u001b[0;32m    345\u001b[0m     response[\u001b[39m\"\u001b[39m\u001b[39mvalue\u001b[39m\u001b[39m\"\u001b[39m] \u001b[39m=\u001b[39m \u001b[39mself\u001b[39m\u001b[39m.\u001b[39m_unwrap_value(response\u001b[39m.\u001b[39mget(\u001b[39m\"\u001b[39m\u001b[39mvalue\u001b[39m\u001b[39m\"\u001b[39m, \u001b[39mNone\u001b[39;00m))\n\u001b[0;32m    346\u001b[0m     \u001b[39mreturn\u001b[39;00m response\n",
      "File \u001b[1;32mc:\\Users\\human\\anaconda3\\Lib\\site-packages\\selenium\\webdriver\\remote\\errorhandler.py:229\u001b[0m, in \u001b[0;36mErrorHandler.check_response\u001b[1;34m(self, response)\u001b[0m\n\u001b[0;32m    227\u001b[0m         alert_text \u001b[39m=\u001b[39m value[\u001b[39m\"\u001b[39m\u001b[39malert\u001b[39m\u001b[39m\"\u001b[39m]\u001b[39m.\u001b[39mget(\u001b[39m\"\u001b[39m\u001b[39mtext\u001b[39m\u001b[39m\"\u001b[39m)\n\u001b[0;32m    228\u001b[0m     \u001b[39mraise\u001b[39;00m exception_class(message, screen, stacktrace, alert_text)  \u001b[39m# type: ignore[call-arg]  # mypy is not smart enough here\u001b[39;00m\n\u001b[1;32m--> 229\u001b[0m \u001b[39mraise\u001b[39;00m exception_class(message, screen, stacktrace)\n",
      "\u001b[1;31mWebDriverException\u001b[0m: Message: no such execution context\n  (Session info: chrome=117.0.5938.89)\nStacktrace:\n\tGetHandleVerifier [0x00007FF7137D78A2+54818]\n\t(No symbol) [0x00007FF713746AD2]\n\t(No symbol) [0x00007FF7135FD8ED]\n\t(No symbol) [0x00007FF7135EC5B9]\n\t(No symbol) [0x00007FF7135EA961]\n\t(No symbol) [0x00007FF7135EB2EE]\n\t(No symbol) [0x00007FF7135F7D4D]\n\t(No symbol) [0x00007FF7136084D1]\n\t(No symbol) [0x00007FF71360C80A]\n\t(No symbol) [0x00007FF7135EB937]\n\t(No symbol) [0x00007FF713608163]\n\t(No symbol) [0x00007FF713677609]\n\t(No symbol) [0x00007FF71365E883]\n\t(No symbol) [0x00007FF713633691]\n\t(No symbol) [0x00007FF7136348D4]\n\tGetHandleVerifier [0x00007FF713B3B9A2+3610402]\n\tGetHandleVerifier [0x00007FF713B91870+3962352]\n\tGetHandleVerifier [0x00007FF713B89D5F+3930847]\n\tGetHandleVerifier [0x00007FF713873656+693206]\n\t(No symbol) [0x00007FF713751638]\n\t(No symbol) [0x00007FF71374D944]\n\t(No symbol) [0x00007FF71374DA72]\n\t(No symbol) [0x00007FF71373E123]\n\tBaseThreadInitThunk [0x00007FFBE04E7344+20]\n\tRtlUserThreadStart [0x00007FFBE10A26B1+33]\n"
     ]
    }
   ],
   "source": [
    "answer_list = []\n",
    "driver = webdriver.Chrome()\n",
    "for page in range(1, 11):\n",
    "    url = f'https://kin.naver.com/search/list.naver?query={quote(\"추석 선물\")}&page={page}'\n",
    "    driver.get(url)\n",
    "    time.sleep(2)\n",
    "    soup = BeautifulSoup(driver.page_source, 'html.parser')\n",
    "    lis = soup.select('.basic1 > li')\n",
    "\n",
    "    for li in lis:\n",
    "        sub_url = li.select_one('a._searchListTitleAnchor')['href']\n",
    "        driver.get(sub_url)\n",
    "        time.sleep(2)\n",
    "\n",
    "        answer_num = driver.find_element(By.CSS_SELECTOR, '._answerCount.num').text\n",
    "        click_count = (int(answer_num) - 1) // 5 \n",
    "        print(click_count, end=' ')\n",
    "        for _ in range(click_count):\n",
    "            driver.find_element(By.ID, 'nextPageButton').click()\n",
    "            time.sleep(2)\n",
    "\n",
    "        sub_soup = BeautifulSoup(driver.page_source, 'html.parser')\n",
    "        divs = sub_soup.select('.answer-content__list._answerList > div')\n",
    "        for div in divs:\n",
    "            ps = div.select('.se-text-paragraph.se-text-paragraph-align-')\n",
    "            answer = ''\n",
    "            for p in ps:\n",
    "                text = p.get_text().strip()\n",
    "                if text == '\\u200b' or text == '':\n",
    "                    continue\n",
    "                answer += text + '\\n'\n",
    "            answer_list.append(answer)\n",
    "\n",
    "        driver.back()\n",
    "        time.sleep(2)\n",
    "    print()\n",
    "\n",
    "driver.close()"
   ]
  },
  {
   "cell_type": "code",
   "execution_count": 26,
   "metadata": {},
   "outputs": [
    {
     "data": {
      "text/plain": [
       "90"
      ]
     },
     "execution_count": 26,
     "metadata": {},
     "output_type": "execute_result"
    }
   ],
   "source": [
    "len(answer_list)"
   ]
  },
  {
   "cell_type": "code",
   "execution_count": 27,
   "metadata": {},
   "outputs": [
    {
     "data": {
      "text/plain": [
       "''"
      ]
     },
     "execution_count": 27,
     "metadata": {},
     "output_type": "execute_result"
    }
   ],
   "source": [
    "answer_list[-1]"
   ]
  },
  {
   "cell_type": "code",
   "execution_count": 28,
   "metadata": {},
   "outputs": [
    {
     "data": {
      "text/plain": [
       "['추석이 다가오면 언제나 선물 고민이 시작되죠?\\n어떤 선물을 하면 좋을지, 가격은 얼마가 적당할지, 받는 분이 좋아할지 고민이 많으실 텐데요.\\n저도 매번 이런 고민을 하다 추석 선물 여러 종류를 추천하는 영상 하나를 만들어 봤어요\\n대기업에서 판매하는 기름, 햄, 참치, 비누 세트 등은 뺐구요,\\n좀 더 새롭고,\\n어떤 선물을 할지 고민해본 흔적이 있는 선물들만 넣어놨어요\\n한 번 보시고 참고하셔서 따뜻한 마음 잘 전하시길 바래요.\\n',\n",
       " '안녕하세요~ 소뱅이네 입니다.\\n추석이 지나면 날씨도 추워지는데 포근한 이불은 어떨까요?\\n매일 사용하는 제품이라 실용적이고 기억에 오래 남을 것 같습니다.\\n수년간 오프라인 매장 운영 경험을 바탕으로 온라인 판매를 시작했습니다.\\n국내생산 고품질의 합리적인 가격의 원하시는 이불을 소개해드려요.\\n아래의 제품 이외에도 많은 제품이 있으니 방문 한번 부탁드립니다.\\n',\n",
       " '아내되실분과 먼저는 꼭 상의를 하시고.. ㅎㅎ\\n아무래도 선물은 고기나 과일이 가격적으로도 서로 부담안되고 기분좋게 할 수 있는 선물인 것 같아요\\n최근에 장인 장모님 선물 구매하고 만족했던 사이트 링크 남겨드릴테니 도움되시길 바랍니다 ㅎㅎ\\n근데 당근어플이 설치되어 있어야 들어가실 수 있어요!\\n도움되셨다면 채택도 부탁드릴게요 ㅎㅎ\\n',\n",
       " '',\n",
       " '']"
      ]
     },
     "execution_count": 28,
     "metadata": {},
     "output_type": "execute_result"
    }
   ],
   "source": [
    "answer_list[-5:]"
   ]
  },
  {
   "cell_type": "code",
   "execution_count": null,
   "metadata": {},
   "outputs": [],
   "source": []
  }
 ],
 "metadata": {
  "kernelspec": {
   "display_name": "base",
   "language": "python",
   "name": "python3"
  },
  "language_info": {
   "codemirror_mode": {
    "name": "ipython",
    "version": 3
   },
   "file_extension": ".py",
   "mimetype": "text/x-python",
   "name": "python",
   "nbconvert_exporter": "python",
   "pygments_lexer": "ipython3",
   "version": "3.11.4"
  },
  "orig_nbformat": 4
 },
 "nbformat": 4,
 "nbformat_minor": 2
}
