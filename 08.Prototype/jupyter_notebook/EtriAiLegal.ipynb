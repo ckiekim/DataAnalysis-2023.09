{
 "cells": [
  {
   "cell_type": "markdown",
   "metadata": {},
   "source": [
    "## 법률 QnA API"
   ]
  },
  {
   "cell_type": "code",
   "execution_count": 2,
   "metadata": {},
   "outputs": [],
   "source": [
    "import requests, json\n",
    "\n",
    "openApiURL = \"http://aiopen.etri.re.kr:8000/LegalQA\"\n",
    "with open('../static/keys/etriAiKey.txt') as f:\n",
    "    accessKey = f.read()"
   ]
  },
  {
   "cell_type": "code",
   "execution_count": 10,
   "metadata": {},
   "outputs": [],
   "source": [
    "headers={\"Content-Type\": \"application/json; charset=UTF-8\", \"Authorization\": accessKey}\n",
    "question = \"대법원장의 임기는?\"\n",
    "requestJson = { \"argument\": { \"question\": question } }"
   ]
  },
  {
   "cell_type": "code",
   "execution_count": 11,
   "metadata": {},
   "outputs": [
    {
     "data": {
      "text/plain": [
       "{'result': 0,\n",
       " 'return_object': {'LegalInfo': {'AnswerInfo': [{'rank': 1,\n",
       "     'answer': '6년',\n",
       "     'source': '법원조직법 제4편 법관',\n",
       "     'clause': '임기ㆍ연임ㆍ정년\\n① 대법원장의 임기는 6년으로 하며, 중임(重任)할 수 없다.\\n② 대법관의 임기는 6년으로 하며, 연임할 수 있다.\\n③ 판사의 임기는 10년으로 하며, 연임할 수 있다.\\n④ 대법원장과 대법관의 정년은 각각 70세, 판사의 정년은 65세로 한다.',\n",
       "     'confidence': 0.997707},\n",
       "    {'rank': 2,\n",
       "     'answer': '6년',\n",
       "     'source': '대한민국 헌법 제5장 법원',\n",
       "     'clause': '① 대법원장의 임기는 6년으로 하며, 중임할 수 없다.\\n② 대법관의 임기는 6년으로 하며, 법률이 정하는 바에 의하여 연임할 수 있다.\\n③ 대법원장과 대법관이 아닌 법관의 임기는 10년으로 하며, 법률이 정하는 바에 의하여 연임할 수 있다.\\n④ 법관의 정년은 법률로 정한다.',\n",
       "     'confidence': 0.997262},\n",
       "    {'rank': 3,\n",
       "     'answer': '2년',\n",
       "     'source': '법원조직법 제8편 양형위원회',\n",
       "     'clause': '법원조직법\\n위원회의 구성\\n① 위원회는 위원장 1명을 포함한 13명의 위원으로 구성하되, 위원장이 아닌 위원 중 1명은 상임위원으로 한다.\\n② 위원장은 15년 이상 다음 각 호의 직에 있던 사람 중에서 대법원장이 임명하거나 위촉한다.\\n1. 판사, 검사, 변호사\\n2. 국가, 지방자치단체, 국영ㆍ공영기업체, 「공공기관의 운영에 관한 법률」 제4조에 따른 공공기관, 그 밖의 법인에서 법률에 관한 사무에 종사한 사람\\n3. 공인된 대학의 법학 조교수 이상의 교수\\n③ 위원회의 위원은 다음 각 호의 사람을 대법원장이 임명하거나 위촉한다.\\n1. 법...(생략)',\n",
       "     'confidence': 0.003009},\n",
       "    {'rank': 4,\n",
       "     'answer': '연임발령으로 연임',\n",
       "     'source': '법원조직법 제4편 법관',\n",
       "     'clause': '판사의 연임\\n① 임기가 끝난 판사는 인사위원회의 심의를 거치고 대법관회의의 동의를 받아 대법원장의 연임발령으로 연임한다.\\n② 대법원장은 다음 각 호의 어느 하나에 해당한다고 인정되는 판사에 대해서는 연임발령을 하지 아니한다.\\n1. 신체상 또는 정신상의 장해로 판사로서 정상적인 직무를 수행할 수 없는 경우\\n2. 근무성적이 현저히 불량하여 판사로서 정상적인 직무를 수행할 수 없는 경우\\n3. 판사로서의 품위를 유지하는 것이 현저히 곤란한 경우\\n③ 판사의 연임절차에 관하여 필요한 사항은 대법원규칙으로 정한다.',\n",
       "     'confidence': 8.4e-05},\n",
       "    {'rank': 5,\n",
       "     'answer': '2년',\n",
       "     'source': '법원조직법 제7편 대법원의 기관 / 제3장 사법정책연구원',\n",
       "     'clause': '법원조직법\\n사법정책연구원운영위원회\\n① 사법정책연구원의 운영과 연구에 관한 중요사항을 심의하기 위하여 사법정책연구원에 운영위원회를 둔다.\\n② 운영위원회는 대법원장이 위촉하는 9명의 위원으로 구성하되, 그 임기는 2년으로 하며 연임할 수 있다. 다만, 위원 중 과반수는 법관이 아닌 사람으로 한다.\\n③ 운영위원회의 조직과 운영에 관하여 필요한 사항은 대법원규칙으로 정한다.',\n",
       "     'confidence': 8.4e-05}],\n",
       "   'RelatedQs': []}}}"
      ]
     },
     "execution_count": 11,
     "metadata": {},
     "output_type": "execute_result"
    }
   ],
   "source": [
    "result = requests.post(openApiURL, headers=headers, data=json.dumps(requestJson)).json()\n",
    "result"
   ]
  },
  {
   "cell_type": "code",
   "execution_count": 13,
   "metadata": {},
   "outputs": [
    {
     "data": {
      "text/plain": [
       "'임기ㆍ연임ㆍ정년\\n① 대법원장의 임기는 6년으로 하며, 중임(重任)할 수 없다.\\n② 대법관의 임기는 6년으로 하며, 연임할 수 있다.\\n③ 판사의 임기는 10년으로 하며, 연임할 수 있다.\\n④ 대법원장과 대법관의 정년은 각각 70세, 판사의 정년은 65세로 한다.'"
      ]
     },
     "execution_count": 13,
     "metadata": {},
     "output_type": "execute_result"
    }
   ],
   "source": [
    "result['return_object']['LegalInfo']['AnswerInfo'][0]['clause']"
   ]
  },
  {
   "cell_type": "code",
   "execution_count": 14,
   "metadata": {},
   "outputs": [
    {
     "name": "stdout",
     "output_type": "stream",
     "text": [
      "임기ㆍ연임ㆍ정년\n",
      "① 대법원장의 임기는 6년으로 하며, 중임(重任)할 수 없다.\n",
      "② 대법관의 임기는 6년으로 하며, 연임할 수 있다.\n",
      "③ 판사의 임기는 10년으로 하며, 연임할 수 있다.\n",
      "④ 대법원장과 대법관의 정년은 각각 70세, 판사의 정년은 65세로 한다.\n"
     ]
    }
   ],
   "source": [
    "print(result['return_object']['LegalInfo']['AnswerInfo'][0]['clause'])"
   ]
  },
  {
   "cell_type": "code",
   "execution_count": 15,
   "metadata": {},
   "outputs": [
    {
     "data": {
      "text/plain": [
       "{'result': 0,\n",
       " 'return_object': {'LegalInfo': {'AnswerInfo': [{'rank': 1,\n",
       "     'answer': '시ㆍ도지사가 시행하는 공인중개사자격시험에 합격',\n",
       "     'source': '공인중개사법 제2장 공인중개사',\n",
       "     'clause': '자격시험\\n①공인중개사가 되려는 자는 시ㆍ도지사가 시행하는 공인중개사자격시험에 합격하여야 한다. <개정 2008.6.13, 2014.1.28>\\n②국토교통부장관은 공인중개사자격시험 수준의 균형유지 등을 위하여 필요하다고 인정하는 때에는 대통령령이 정하는 바에 따라 직접 시험문제를 출제하거나 시험을 시행할 수 있다. <개정 2008.2.29, 2013.3.23>\\n③공인중개사자격시험의 시험과목ㆍ시험방법 및 시험의 일부면제 그 밖에 시험에 관하여 필요한 사항은 대통령령으로 정한다.',\n",
       "     'confidence': 0.911989},\n",
       "    {'rank': 2,\n",
       "     'answer': '제35조제1항의 규정에 의하여 공인중개사의 자격이 취소된 후 3년이 경과되지 아니한 자',\n",
       "     'source': '공인중개사법 제2장 공인중개사',\n",
       "     'clause': '결격사유\\n제35조제1항의 규정에 의하여 공인중개사의 자격이 취소된 후 3년이 경과되지 아니한 자는 공인중개사가 될 수 없다.',\n",
       "     'confidence': 0.000129},\n",
       "    {'rank': 3,\n",
       "     'answer': '중개사무소의 개설등록',\n",
       "     'source': '공인중개사법 제3장 중개업 등',\n",
       "     'clause': '등록의 결격사유 등\\n①다음 각 호의 어느 하나에 해당하는 자는 중개사무소의 개설등록을 할 수 없다. <개정 2013.6.4, 2014.1.28, 2014.5.21, 2018.4.17>\\n1. 미성년자\\n2. 피성년후견인 또는 피한정후견인\\n3. 파산선고를 받고 복권되지 아니한 자\\n4. 금고 이상의 실형의 선고를 받고 그 집행이 종료(집행이 종료된 것으로 보는 경우를 포함한다)되거나 집행이 면제된 날부터 3년이 경과되지 아니한 자\\n5. 금고 이상의 형의 집행유예를 받고 그 유예기간 중에 있는 자\\n6. 제35조제1항의 규정에 의하여 공인중개...(생략)',\n",
       "     'confidence': 6.9e-05},\n",
       "    {'rank': 4,\n",
       "     'answer': '중개사무소, 개업공인중개사에 관한 사항으로서 대통령령으로 정하는 사항을 명시',\n",
       "     'source': '공인중개사법 제3장 중개업 등',\n",
       "     'clause': '중개대상물의 표시ㆍ광고\\n① 개업공인중개사가 의뢰받은 중개대상물에 대하여 표시ㆍ광고(「표시ㆍ광고의 공정화에 관한 법률」 제2조에 따른 표시ㆍ광고를 말한다. 이하 같다)를 하려면 중개사무소, 개업공인중개사에 관한 사항으로서 대통령령으로 정하는 사항을 명시하여야 한다. <개정 2014.1.28>\\n② 개업공인중개사가 아닌 자는 중개대상물에 대한 표시ㆍ광고를 하여서는 아니 된다. <개정 2014.1.28>',\n",
       "     'confidence': 6.7e-05},\n",
       "    {'rank': 5,\n",
       "     'answer': '등록신청일(분사무소 설치신고의 경우에는 신고일을 말한다)전 1년 이내에 시ㆍ도지사가 실시하는 실무교육',\n",
       "     'source': '공인중개사법 제3장 중개업 등',\n",
       "     'clause': '개업공인중개사등의 교육\\n①제9조의 규정에 의하여 중개사무소의 개설등록을 신청하려는 자(법인의 경우에는 사원ㆍ임원을 말하며, 제13조제3항에 따라 분사무소의 설치신고를 하려는 경우에는 분사무소의 책임자를 말한다)는 등록신청일(분사무소 설치신고의 경우에는 신고일을 말한다)전 1년 이내에 시ㆍ도지사가 실시하는 실무교육(실무수습을 포함한다)을 받아야 한다. 다만, 다음 각 호의 어느 하나에 해당하는 자는 그러하지 아니하다. <개정 2008.2.29, 2008.6.13, 2013.6.4, 2014.1.28>\\n1. 폐업신고 후 1년 이내에 중...(생략)',\n",
       "     'confidence': 6.6e-05}],\n",
       "   'RelatedQs': []}}}"
      ]
     },
     "execution_count": 15,
     "metadata": {},
     "output_type": "execute_result"
    }
   ],
   "source": [
    "question = \"공인중개사가 되려면 어떻게 해야하나요?\"\n",
    "requestJson = { \"argument\": { \"question\": question } }\n",
    "requests.post(openApiURL, headers=headers, data=json.dumps(requestJson)).json()"
   ]
  },
  {
   "cell_type": "code",
   "execution_count": 18,
   "metadata": {},
   "outputs": [],
   "source": [
    "question = \"공인중개사의 매매 수수료는?\"\n",
    "requestJson = { \"argument\": { \"question\": question } }\n",
    "r = requests.post(openApiURL, headers=headers, data=json.dumps(requestJson)).json()"
   ]
  },
  {
   "cell_type": "code",
   "execution_count": 19,
   "metadata": {},
   "outputs": [
    {
     "data": {
      "text/plain": [
       "0"
      ]
     },
     "execution_count": 19,
     "metadata": {},
     "output_type": "execute_result"
    }
   ],
   "source": [
    "len(r['return_object']['LegalInfo']['AnswerInfo'])"
   ]
  },
  {
   "cell_type": "code",
   "execution_count": 20,
   "metadata": {},
   "outputs": [
    {
     "data": {
      "text/plain": [
       "{'rank': 1,\n",
       " 'answer': '6년',\n",
       " 'source': '법원조직법 제4편 법관',\n",
       " 'clause': '임기ㆍ연임ㆍ정년\\n① 대법원장의 임기는 6년으로 하며, 중임(重任)할 수 없다.\\n② 대법관의 임기는 6년으로 하며, 연임할 수 있다.\\n③ 판사의 임기는 10년으로 하며, 연임할 수 있다.\\n④ 대법원장과 대법관의 정년은 각각 70세, 판사의 정년은 65세로 한다.',\n",
       " 'confidence': 0.997707}"
      ]
     },
     "execution_count": 20,
     "metadata": {},
     "output_type": "execute_result"
    }
   ],
   "source": [
    "res_dict = result['return_object']['LegalInfo']['AnswerInfo'][0]\n",
    "res_dict"
   ]
  },
  {
   "cell_type": "code",
   "execution_count": 21,
   "metadata": {},
   "outputs": [
    {
     "data": {
      "text/plain": [
       "{'rank': 1,\n",
       " 'answer': '6년',\n",
       " 'source': '법원조직법 제4편 법관',\n",
       " 'clause': '임기ㆍ연임ㆍ정년\\n① 대법원장의 임기는 6년으로 하며, 중임(重任)할 수 없다.\\n② 대법관의 임기는 6년으로 하며, 연임할 수 있다.\\n③ 판사의 임기는 10년으로 하며, 연임할 수 있다.\\n④ 대법원장과 대법관의 정년은 각각 70세, 판사의 정년은 65세로 한다.',\n",
       " 'confidence': 0.997707,\n",
       " 'result': 1}"
      ]
     },
     "execution_count": 21,
     "metadata": {},
     "output_type": "execute_result"
    }
   ],
   "source": [
    "res_dict['result'] = 1\n",
    "res_dict"
   ]
  },
  {
   "cell_type": "code",
   "execution_count": null,
   "metadata": {},
   "outputs": [],
   "source": []
  }
 ],
 "metadata": {
  "kernelspec": {
   "display_name": "base",
   "language": "python",
   "name": "python3"
  },
  "language_info": {
   "codemirror_mode": {
    "name": "ipython",
    "version": 3
   },
   "file_extension": ".py",
   "mimetype": "text/x-python",
   "name": "python",
   "nbconvert_exporter": "python",
   "pygments_lexer": "ipython3",
   "version": "3.11.4"
  }
 },
 "nbformat": 4,
 "nbformat_minor": 2
}
