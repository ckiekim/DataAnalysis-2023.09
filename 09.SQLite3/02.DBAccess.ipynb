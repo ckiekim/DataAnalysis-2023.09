{
 "cells": [
  {
   "cell_type": "markdown",
   "metadata": {},
   "source": [
    "### member_dao를 이용한 DB Access"
   ]
  },
  {
   "cell_type": "code",
   "execution_count": 1,
   "metadata": {},
   "outputs": [],
   "source": [
    "import member_dao as mdao"
   ]
  },
  {
   "cell_type": "code",
   "execution_count": 2,
   "metadata": {},
   "outputs": [
    {
     "name": "stdout",
     "output_type": "stream",
     "text": [
      "(1, 'james', 25)\n",
      "(2, 'maria', 23)\n",
      "(3, 'tommy', 19)\n",
      "(4, 'emma', 27)\n",
      "(5, 'cha', 51)\n"
     ]
    }
   ],
   "source": [
    "results = mdao.get_members()\n",
    "for row in results:\n",
    "    print(row)"
   ]
  },
  {
   "cell_type": "code",
   "execution_count": 3,
   "metadata": {},
   "outputs": [
    {
     "name": "stdout",
     "output_type": "stream",
     "text": [
      "(6, '박연진', 35)\n"
     ]
    }
   ],
   "source": [
    "params = ('박연진', 35)\n",
    "mdao.insert_member(params)\n",
    "result = mdao.get_member_by_mid(6)\n",
    "print(result)"
   ]
  },
  {
   "cell_type": "code",
   "execution_count": 4,
   "metadata": {},
   "outputs": [
    {
     "name": "stdout",
     "output_type": "stream",
     "text": [
      "(6, 'park', 35)\n"
     ]
    }
   ],
   "source": [
    "params = ('park', 35, 6)\n",
    "mdao.update_member(params)\n",
    "result = mdao.get_member_by_mid(6)\n",
    "print(result)"
   ]
  },
  {
   "cell_type": "code",
   "execution_count": 5,
   "metadata": {},
   "outputs": [
    {
     "name": "stdout",
     "output_type": "stream",
     "text": [
      "(1, 'james', 25)\n",
      "(2, 'maria', 23)\n",
      "(3, 'tommy', 19)\n",
      "(4, 'emma', 27)\n",
      "(5, 'cha', 51)\n"
     ]
    }
   ],
   "source": [
    "mdao.delete_member(6)\n",
    "results = mdao.get_members_under_age(60)\n",
    "for row in results:\n",
    "    print(row)"
   ]
  },
  {
   "cell_type": "code",
   "execution_count": null,
   "metadata": {},
   "outputs": [],
   "source": []
  }
 ],
 "metadata": {
  "kernelspec": {
   "display_name": "base",
   "language": "python",
   "name": "python3"
  },
  "language_info": {
   "codemirror_mode": {
    "name": "ipython",
    "version": 3
   },
   "file_extension": ".py",
   "mimetype": "text/x-python",
   "name": "python",
   "nbconvert_exporter": "python",
   "pygments_lexer": "ipython3",
   "version": "3.11.4"
  },
  "orig_nbformat": 4
 },
 "nbformat": 4,
 "nbformat_minor": 2
}
