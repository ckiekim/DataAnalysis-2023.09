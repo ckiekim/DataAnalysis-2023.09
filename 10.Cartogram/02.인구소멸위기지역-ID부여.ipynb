{
 "cells": [
  {
   "cell_type": "markdown",
   "metadata": {},
   "source": [
    "## 인구소멸 위기지역 - ID 부여 (Part 2)"
   ]
  },
  {
   "cell_type": "code",
   "execution_count": 1,
   "metadata": {},
   "outputs": [],
   "source": [
    "import numpy as np\n",
    "import pandas as pd\n",
    "import warnings\n",
    "warnings.filterwarnings('ignore')"
   ]
  },
  {
   "cell_type": "code",
   "execution_count": 2,
   "metadata": {},
   "outputs": [
    {
     "name": "stdout",
     "output_type": "stream",
     "text": [
      "(250, 10)\n"
     ]
    },
    {
     "data": {
      "text/html": [
       "<div>\n",
       "<style scoped>\n",
       "    .dataframe tbody tr th:only-of-type {\n",
       "        vertical-align: middle;\n",
       "    }\n",
       "\n",
       "    .dataframe tbody tr th {\n",
       "        vertical-align: top;\n",
       "    }\n",
       "\n",
       "    .dataframe thead th {\n",
       "        text-align: right;\n",
       "    }\n",
       "</style>\n",
       "<table border=\"1\" class=\"dataframe\">\n",
       "  <thead>\n",
       "    <tr style=\"text-align: right;\">\n",
       "      <th></th>\n",
       "      <th>광역시도</th>\n",
       "      <th>시군구</th>\n",
       "      <th>20-39세계</th>\n",
       "      <th>20-39세남자</th>\n",
       "      <th>20-39세여자</th>\n",
       "      <th>65세 이상계</th>\n",
       "      <th>인구수계</th>\n",
       "      <th>소멸비율</th>\n",
       "      <th>소멸위기지역</th>\n",
       "      <th>소멸위기고위험지역</th>\n",
       "    </tr>\n",
       "  </thead>\n",
       "  <tbody>\n",
       "    <tr>\n",
       "      <th>0</th>\n",
       "      <td>강원도</td>\n",
       "      <td>강릉시</td>\n",
       "      <td>47006</td>\n",
       "      <td>25199</td>\n",
       "      <td>21807</td>\n",
       "      <td>43830</td>\n",
       "      <td>211643</td>\n",
       "      <td>0.4975</td>\n",
       "      <td>True</td>\n",
       "      <td>False</td>\n",
       "    </tr>\n",
       "    <tr>\n",
       "      <th>1</th>\n",
       "      <td>강원도</td>\n",
       "      <td>고성군</td>\n",
       "      <td>5217</td>\n",
       "      <td>3175</td>\n",
       "      <td>2042</td>\n",
       "      <td>7755</td>\n",
       "      <td>26792</td>\n",
       "      <td>0.2633</td>\n",
       "      <td>True</td>\n",
       "      <td>False</td>\n",
       "    </tr>\n",
       "    <tr>\n",
       "      <th>2</th>\n",
       "      <td>강원도</td>\n",
       "      <td>동해시</td>\n",
       "      <td>18727</td>\n",
       "      <td>10469</td>\n",
       "      <td>8258</td>\n",
       "      <td>17572</td>\n",
       "      <td>89814</td>\n",
       "      <td>0.4700</td>\n",
       "      <td>True</td>\n",
       "      <td>False</td>\n",
       "    </tr>\n",
       "    <tr>\n",
       "      <th>3</th>\n",
       "      <td>강원도</td>\n",
       "      <td>삼척시</td>\n",
       "      <td>13583</td>\n",
       "      <td>7469</td>\n",
       "      <td>6117</td>\n",
       "      <td>16077</td>\n",
       "      <td>65623</td>\n",
       "      <td>0.3805</td>\n",
       "      <td>True</td>\n",
       "      <td>False</td>\n",
       "    </tr>\n",
       "    <tr>\n",
       "      <th>4</th>\n",
       "      <td>강원도</td>\n",
       "      <td>속초시</td>\n",
       "      <td>18080</td>\n",
       "      <td>9909</td>\n",
       "      <td>8171</td>\n",
       "      <td>15170</td>\n",
       "      <td>81497</td>\n",
       "      <td>0.5386</td>\n",
       "      <td>False</td>\n",
       "      <td>False</td>\n",
       "    </tr>\n",
       "  </tbody>\n",
       "</table>\n",
       "</div>"
      ],
      "text/plain": [
       "  광역시도  시군구  20-39세계  20-39세남자  20-39세여자  65세 이상계    인구수계    소멸비율  소멸위기지역  \\\n",
       "0  강원도  강릉시    47006     25199     21807    43830  211643  0.4975    True   \n",
       "1  강원도  고성군     5217      3175      2042     7755   26792  0.2633    True   \n",
       "2  강원도  동해시    18727     10469      8258    17572   89814  0.4700    True   \n",
       "3  강원도  삼척시    13583      7469      6117    16077   65623  0.3805    True   \n",
       "4  강원도  속초시    18080      9909      8171    15170   81497  0.5386   False   \n",
       "\n",
       "   소멸위기고위험지역  \n",
       "0      False  \n",
       "1      False  \n",
       "2      False  \n",
       "3      False  \n",
       "4      False  "
      ]
     },
     "execution_count": 2,
     "metadata": {},
     "output_type": "execute_result"
    }
   ],
   "source": [
    "pop = pd.read_csv('data/시군구_전처리완료.csv', encoding='euc-kr')\n",
    "print(pop.shape)\n",
    "pop.head()"
   ]
  },
  {
   "cell_type": "markdown",
   "metadata": {},
   "source": [
    "- 고유 ID 만들기"
   ]
  },
  {
   "cell_type": "code",
   "execution_count": 3,
   "metadata": {},
   "outputs": [
    {
     "data": {
      "text/plain": [
       "226"
      ]
     },
     "execution_count": 3,
     "metadata": {},
     "output_type": "execute_result"
    }
   ],
   "source": [
    "pop.시군구.nunique()"
   ]
  },
  {
   "cell_type": "code",
   "execution_count": 4,
   "metadata": {},
   "outputs": [],
   "source": [
    "# 시군구 값을 기본값으로 가져감\n",
    "# 고성군 - 고성(강원), 고성(경남)\n",
    "# 광역시 - 대전 서구, 서울 중구, 서울 용산, 부산 해운대, 세종\n",
    "# 행정구 - 포항 북구(2), 수원 장안(3), 용인 수지, 고양 일산동(4), 창원 합포(5), 창원 회원\n",
    "tmp_gu_dict = {\n",
    "    '수원': ['장안구', '권선구', '팔달구', '영통구'], \n",
    "    '성남': ['수정구', '중원구', '분당구'], \n",
    "    '안양': ['만안구', '동안구'], \n",
    "    '안산': ['상록구', '단원구'], \n",
    "    '고양': ['덕양구', '일산동구', '일산서구'], \n",
    "    '용인': ['처인구', '기흥구', '수지구'], \n",
    "    '청주': ['상당구', '서원구', '흥덕구', '청원구'], \n",
    "    '천안': ['동남구', '서북구'], \n",
    "    '전주': ['완산구', '덕진구'], \n",
    "    '포항': ['남구', '북구'], \n",
    "    '창원': ['의창구', '성산구', '진해구', '마산합포구', '마산회원구']\n",
    "}"
   ]
  },
  {
   "cell_type": "code",
   "execution_count": 5,
   "metadata": {},
   "outputs": [],
   "source": [
    "metro_list = ['서울특별시','부산광역시','대구광역시','인천광역시','대전광역시','광주광역시','울산광역시']"
   ]
  },
  {
   "cell_type": "code",
   "execution_count": 6,
   "metadata": {},
   "outputs": [],
   "source": [
    "si_name = [None] * len(pop)\n",
    "for i in pop.index:\n",
    "    if pop.광역시도[i] in metro_list:\n",
    "        if len(pop.시군구[i]) == 2:\n",
    "            si_name[i] = pop.광역시도[i][:2] + ' ' + pop.시군구[i]      # 서울 중구, 대전 서구\n",
    "        else:\n",
    "            si_name[i] = pop.광역시도[i][:2] + ' ' + pop.시군구[i][:-1] # 서울 용산, 서울 영등포\n",
    "    else:\n",
    "        if pop.시군구[i][:-1] == '고성':\n",
    "            if pop.광역시도[i] == '강원도':\n",
    "                si_name[i] = '고성(강원)'\n",
    "            else:\n",
    "                si_name[i] = '고성(경남)'\n",
    "        else:\n",
    "            si_name[i] = pop.시군구[i][:-1]     # 세종, 광명, 의정부\n",
    "\n",
    "        for key, value in tmp_gu_dict.items():\n",
    "            if pop.시군구[i] in value:\n",
    "                if len(pop.시군구[i]) == 2:\n",
    "                    si_name[i] = key + ' ' + pop.시군구[i]      # 포항 북구, 포항 남구\n",
    "                elif len(pop.시군구[i]) == 5:\n",
    "                    si_name[i] = key + ' ' + pop.시군구[i][2:-1]    # 창원 합포, 창원 회원\n",
    "                else:\n",
    "                    si_name[i] = key + ' ' + pop.시군구[i][:-1]     # 수원 장안, 고양 일산동"
   ]
  },
  {
   "cell_type": "code",
   "execution_count": 7,
   "metadata": {},
   "outputs": [
    {
     "name": "stdout",
     "output_type": "stream",
     "text": [
      "['강릉', '고성(강원)', '동해', '삼척', '속초', '양구', '양양', '영월', '원주', '인제', '정선', '철원', '춘천', '태백', '평창', '홍천', '화천', '횡성', '가평', '과천', '광명', '광주', '구리', '군포', '수원 권선', '용인 기흥', '김포', '남양주', '안산 단원', '고양 덕양', '동두천', '안양 동안', '안양 만안', '부천', '성남 분당', '안산 상록', '성남 수정', '용인 수지', '시흥', '안성', '양주', '양평', '여주', '연천', '수원 영통', '오산', '의왕', '의정부', '이천', '고양 일산동', '고양 일산서', '수원 장안', '성남 중원', '용인 처인', '파주', '수원 팔달', '평택', '포천', '하남', '화성', '거제', '거창', '고성(경남)', '김해', '남해', '창원 합포', '창원 회원', '밀양', '사천', '산청', '창원 성산', '양산', '의령', '창원 의창', '진주', '창원 진해', '창녕', '통영', '하동', '함안', '함양', '합천', '경산', '경주', '고령', '구미', '군위', '김천', '포항 남구', '문경', '봉화', '포항 북구', '상주', '성주', '안동', '영덕', '영양', '영주', '영천', '예천', '울릉', '울진', '의성', '청도', '청송', '칠곡', '광주 광산', '광주 남구', '광주 동구', '광주 북구', '광주 서구', '대구 남구', '대구 달서', '대구 달성', '대구 동구', '대구 북구', '대구 서구', '대구 수성', '대구 중구', '대전 대덕', '대전 동구', '대전 서구', '대전 유성', '대전 중구', '부산 강서', '부산 금정', '부산 기장', '부산 남구', '부산 동구', '부산 동래', '부산 부산진', '부산 북구', '부산 사상', '부산 사하', '부산 서구', '부산 수영', '부산 연제', '부산 영도', '부산 중구', '부산 해운대', '서울 강남', '서울 강동', '서울 강북', '서울 강서', '서울 관악', '서울 광진', '서울 구로', '서울 금천', '서울 노원', '서울 도봉', '서울 동대문', '서울 동작', '서울 마포', '서울 서대문', '서울 서초', '서울 성동', '서울 성북', '서울 송파', '서울 양천', '서울 영등포', '서울 용산', '서울 은평', '서울 종로', '서울 중구', '서울 중랑', '세종', '울산 남구', '울산 동구', '울산 북구', '울산 울주', '울산 중구', '인천 강화', '인천 계양', '인천 남동', '인천 동구', '인천 미추홀', '인천 부평', '인천 서구', '인천 연수', '인천 옹진', '인천 중구', '강진', '고흥', '곡성', '광양', '구례', '나주', '담양', '목포', '무안', '보성', '순천', '신안', '여수', '영광', '영암', '완도', '장성', '장흥', '진도', '함평', '해남', '화순', '고창', '군산', '김제', '남원', '전주 덕진', '무주', '부안', '순창', '전주 완산', '완주', '익산', '임실', '장수', '정읍', '진안', '서귀포', '제주', '계룡', '공주', '금산', '논산', '당진', '천안 동남', '보령', '부여', '천안 서북', '서산', '서천', '아산', '예산', '청양', '태안', '홍성', '괴산', '단양', '보은', '청주 상당', '청주 서원', '영동', '옥천', '음성', '제천', '증평', '진천', '청주 청원', '충주', '청주 흥덕']\n"
     ]
    }
   ],
   "source": [
    "print(si_name)"
   ]
  },
  {
   "cell_type": "markdown",
   "metadata": {},
   "source": [
    "- ID를 인덱스로"
   ]
  },
  {
   "cell_type": "code",
   "execution_count": 8,
   "metadata": {},
   "outputs": [
    {
     "data": {
      "text/html": [
       "<div>\n",
       "<style scoped>\n",
       "    .dataframe tbody tr th:only-of-type {\n",
       "        vertical-align: middle;\n",
       "    }\n",
       "\n",
       "    .dataframe tbody tr th {\n",
       "        vertical-align: top;\n",
       "    }\n",
       "\n",
       "    .dataframe thead th {\n",
       "        text-align: right;\n",
       "    }\n",
       "</style>\n",
       "<table border=\"1\" class=\"dataframe\">\n",
       "  <thead>\n",
       "    <tr style=\"text-align: right;\">\n",
       "      <th></th>\n",
       "      <th>광역시도</th>\n",
       "      <th>시군구</th>\n",
       "      <th>20-39세계</th>\n",
       "      <th>20-39세남자</th>\n",
       "      <th>20-39세여자</th>\n",
       "      <th>65세 이상계</th>\n",
       "      <th>인구수계</th>\n",
       "      <th>소멸비율</th>\n",
       "      <th>소멸위기지역</th>\n",
       "      <th>소멸위기고위험지역</th>\n",
       "    </tr>\n",
       "    <tr>\n",
       "      <th>ID</th>\n",
       "      <th></th>\n",
       "      <th></th>\n",
       "      <th></th>\n",
       "      <th></th>\n",
       "      <th></th>\n",
       "      <th></th>\n",
       "      <th></th>\n",
       "      <th></th>\n",
       "      <th></th>\n",
       "      <th></th>\n",
       "    </tr>\n",
       "  </thead>\n",
       "  <tbody>\n",
       "    <tr>\n",
       "      <th>강릉</th>\n",
       "      <td>강원도</td>\n",
       "      <td>강릉시</td>\n",
       "      <td>47006</td>\n",
       "      <td>25199</td>\n",
       "      <td>21807</td>\n",
       "      <td>43830</td>\n",
       "      <td>211643</td>\n",
       "      <td>0.4975</td>\n",
       "      <td>True</td>\n",
       "      <td>False</td>\n",
       "    </tr>\n",
       "    <tr>\n",
       "      <th>고성(강원)</th>\n",
       "      <td>강원도</td>\n",
       "      <td>고성군</td>\n",
       "      <td>5217</td>\n",
       "      <td>3175</td>\n",
       "      <td>2042</td>\n",
       "      <td>7755</td>\n",
       "      <td>26792</td>\n",
       "      <td>0.2633</td>\n",
       "      <td>True</td>\n",
       "      <td>False</td>\n",
       "    </tr>\n",
       "    <tr>\n",
       "      <th>동해</th>\n",
       "      <td>강원도</td>\n",
       "      <td>동해시</td>\n",
       "      <td>18727</td>\n",
       "      <td>10469</td>\n",
       "      <td>8258</td>\n",
       "      <td>17572</td>\n",
       "      <td>89814</td>\n",
       "      <td>0.4700</td>\n",
       "      <td>True</td>\n",
       "      <td>False</td>\n",
       "    </tr>\n",
       "    <tr>\n",
       "      <th>삼척</th>\n",
       "      <td>강원도</td>\n",
       "      <td>삼척시</td>\n",
       "      <td>13583</td>\n",
       "      <td>7469</td>\n",
       "      <td>6117</td>\n",
       "      <td>16077</td>\n",
       "      <td>65623</td>\n",
       "      <td>0.3805</td>\n",
       "      <td>True</td>\n",
       "      <td>False</td>\n",
       "    </tr>\n",
       "    <tr>\n",
       "      <th>속초</th>\n",
       "      <td>강원도</td>\n",
       "      <td>속초시</td>\n",
       "      <td>18080</td>\n",
       "      <td>9909</td>\n",
       "      <td>8171</td>\n",
       "      <td>15170</td>\n",
       "      <td>81497</td>\n",
       "      <td>0.5386</td>\n",
       "      <td>False</td>\n",
       "      <td>False</td>\n",
       "    </tr>\n",
       "  </tbody>\n",
       "</table>\n",
       "</div>"
      ],
      "text/plain": [
       "       광역시도  시군구  20-39세계  20-39세남자  20-39세여자  65세 이상계    인구수계    소멸비율  \\\n",
       "ID                                                                       \n",
       "강릉      강원도  강릉시    47006     25199     21807    43830  211643  0.4975   \n",
       "고성(강원)  강원도  고성군     5217      3175      2042     7755   26792  0.2633   \n",
       "동해      강원도  동해시    18727     10469      8258    17572   89814  0.4700   \n",
       "삼척      강원도  삼척시    13583      7469      6117    16077   65623  0.3805   \n",
       "속초      강원도  속초시    18080      9909      8171    15170   81497  0.5386   \n",
       "\n",
       "        소멸위기지역  소멸위기고위험지역  \n",
       "ID                         \n",
       "강릉        True      False  \n",
       "고성(강원)    True      False  \n",
       "동해        True      False  \n",
       "삼척        True      False  \n",
       "속초       False      False  "
      ]
     },
     "execution_count": 8,
     "metadata": {},
     "output_type": "execute_result"
    }
   ],
   "source": [
    "pop.index = si_name\n",
    "pop.index.name = 'ID'\n",
    "pop.head()"
   ]
  },
  {
   "cell_type": "code",
   "execution_count": 9,
   "metadata": {},
   "outputs": [],
   "source": [
    "pop.to_csv('data/시군구_ID부여.csv', encoding='euc-kr')"
   ]
  },
  {
   "cell_type": "code",
   "execution_count": null,
   "metadata": {},
   "outputs": [],
   "source": []
  }
 ],
 "metadata": {
  "kernelspec": {
   "display_name": "base",
   "language": "python",
   "name": "python3"
  },
  "language_info": {
   "codemirror_mode": {
    "name": "ipython",
    "version": 3
   },
   "file_extension": ".py",
   "mimetype": "text/x-python",
   "name": "python",
   "nbconvert_exporter": "python",
   "pygments_lexer": "ipython3",
   "version": "3.11.4"
  }
 },
 "nbformat": 4,
 "nbformat_minor": 2
}
